{
  "nbformat": 4,
  "nbformat_minor": 0,
  "metadata": {
    "colab": {
      "provenance": [],
      "toc_visible": true,
      "include_colab_link": true
    },
    "kernelspec": {
      "name": "python3",
      "display_name": "Python 3"
    }
  },
  "cells": [
    {
      "cell_type": "markdown",
      "metadata": {
        "id": "view-in-github",
        "colab_type": "text"
      },
      "source": [
        "<a href=\"https://colab.research.google.com/github/Ernesto1602/Projects/blob/main/An%C3%A1lisis_de_Datos_con_Np%26pd.ipynb\" target=\"_parent\"><img src=\"https://colab.research.google.com/assets/colab-badge.svg\" alt=\"Open In Colab\"/></a>"
      ]
    },
    {
      "cell_type": "code",
      "metadata": {
        "colab": {
          "base_uri": "https://localhost:8080/"
        },
        "id": "rxgTWwzMkXk-",
        "outputId": "6355eee3-f288-4b97-90ae-d3b2ec47073f"
      },
      "source": [
        "import numpy as np\n",
        "a = np.array([1.4,4.2,5.3,6.5],dtype='int')\n",
        "print(a)\n",
        "type(a)"
      ],
      "execution_count": null,
      "outputs": [
        {
          "output_type": "stream",
          "text": [
            "[1 4 5 6]\n"
          ],
          "name": "stdout"
        },
        {
          "output_type": "execute_result",
          "data": {
            "text/plain": [
              "numpy.ndarray"
            ]
          },
          "metadata": {
            "tags": []
          },
          "execution_count": 19
        }
      ]
    },
    {
      "cell_type": "code",
      "metadata": {
        "id": "YWMGPoWFxJZV"
      },
      "source": [
        "import numpy as np\n",
        "import pandas as pd\n",
        "matriz = list(np.random.rand(100,2)*10)\n",
        "tabla = pd.DataFrame(matriz,columns=['presion','temperatura'])\n",
        "tabla.to_csv('examen2.csv')"
      ],
      "execution_count": null,
      "outputs": []
    },
    {
      "cell_type": "code",
      "metadata": {
        "id": "QUgWKLOBkkuS",
        "colab": {
          "base_uri": "https://localhost:8080/"
        },
        "outputId": "5faaca13-bfc7-42cc-f629-efcd83306906"
      },
      "source": [
        "matriz"
      ],
      "execution_count": null,
      "outputs": [
        {
          "output_type": "execute_result",
          "data": {
            "text/plain": [
              "[array([5.2824997 , 2.22404968]),\n",
              " array([8.3935393, 0.7838107]),\n",
              " array([6.41985362, 8.36067709]),\n",
              " array([5.16012081, 4.30407664]),\n",
              " array([7.70176626, 3.72294757]),\n",
              " array([8.6003791 , 3.48196234]),\n",
              " array([0.70085991, 5.03486881]),\n",
              " array([3.00557918, 5.36427821]),\n",
              " array([0.25144051, 6.02125063]),\n",
              " array([0.99713318, 0.90650226]),\n",
              " array([0.13776524, 8.80401063]),\n",
              " array([8.51802454, 8.41224546]),\n",
              " array([6.80165997, 7.06400161]),\n",
              " array([9.04044515, 2.40422778]),\n",
              " array([8.68781952, 0.32768592]),\n",
              " array([4.11383307, 8.60363382]),\n",
              " array([5.13689549, 0.431722  ]),\n",
              " array([8.23225544, 4.70636417]),\n",
              " array([7.96280773, 9.39824882]),\n",
              " array([3.91592327, 2.00271706]),\n",
              " array([0.21938182, 2.55561654]),\n",
              " array([5.12308492, 0.49805915]),\n",
              " array([7.56800107, 3.66848387]),\n",
              " array([6.73359451, 3.16800733]),\n",
              " array([3.62428708, 7.24890314]),\n",
              " array([5.21190689, 9.78710096]),\n",
              " array([3.06730579, 7.10737928]),\n",
              " array([0.75199839, 7.64267481]),\n",
              " array([5.72519962, 3.21944216]),\n",
              " array([9.68222083, 9.0838836 ]),\n",
              " array([7.29504209, 8.70886077]),\n",
              " array([6.68227872, 4.87758913]),\n",
              " array([3.48087218, 1.14163505]),\n",
              " array([6.53174149, 4.46979306]),\n",
              " array([4.07153974, 4.71825686]),\n",
              " array([1.35377193, 8.06735261]),\n",
              " array([3.96892766, 8.03425439]),\n",
              " array([1.68368596, 5.84599896]),\n",
              " array([5.70229733, 1.38938403]),\n",
              " array([7.51877131, 2.71506622]),\n",
              " array([0.84849952, 0.52040518]),\n",
              " array([9.41345933, 1.57598528]),\n",
              " array([1.83830878, 1.66327345]),\n",
              " array([0.10603527, 2.85769617]),\n",
              " array([8.03420786, 6.92597295]),\n",
              " array([7.06712492, 7.68667979]),\n",
              " array([5.27884983, 6.44907402]),\n",
              " array([2.13644253, 8.97625845]),\n",
              " array([3.74172136, 5.10298858]),\n",
              " array([4.9935081 , 0.61959506]),\n",
              " array([7.99252168, 4.00985383]),\n",
              " array([6.98768789, 6.78503932]),\n",
              " array([3.75172866, 5.57671249]),\n",
              " array([6.44198389, 2.82658857]),\n",
              " array([4.22831403, 8.93038291]),\n",
              " array([1.84480102, 2.74657622]),\n",
              " array([9.63443196, 2.13194396]),\n",
              " array([9.32011676, 9.759881  ]),\n",
              " array([3.2656379 , 1.35918967]),\n",
              " array([0.36682579, 8.95146779]),\n",
              " array([8.7622029, 5.5741604]),\n",
              " array([5.5921113 , 9.56445376]),\n",
              " array([6.63243753, 0.72455025]),\n",
              " array([3.48699385, 0.49043869]),\n",
              " array([4.42955011, 8.56541024]),\n",
              " array([2.08276624, 0.21000173]),\n",
              " array([9.23902234, 9.28190718]),\n",
              " array([5.37388386, 0.45429226]),\n",
              " array([8.95250648, 1.60910236]),\n",
              " array([8.95092918, 0.63955557]),\n",
              " array([9.93759164, 0.41420192]),\n",
              " array([1.81460889, 1.23346074]),\n",
              " array([0.17137532, 8.0734787 ]),\n",
              " array([2.26459524, 2.39434323]),\n",
              " array([6.58917696, 2.41502345]),\n",
              " array([5.48542622, 0.83457735]),\n",
              " array([2.97661193, 5.41503126]),\n",
              " array([4.11657156, 3.51650256]),\n",
              " array([3.80798159, 0.96462831]),\n",
              " array([8.14859478, 9.37642324]),\n",
              " array([1.11109977, 1.72673015]),\n",
              " array([7.93160152, 9.94238973]),\n",
              " array([2.77491989, 3.31193468]),\n",
              " array([6.29954401, 8.11493453]),\n",
              " array([2.90295678, 6.6532894 ]),\n",
              " array([9.66305723, 1.0304675 ]),\n",
              " array([3.48950898, 6.75218324]),\n",
              " array([8.69444165, 2.20108834]),\n",
              " array([9.45299959, 6.71841126]),\n",
              " array([5.71194786, 3.43062378]),\n",
              " array([3.49747892, 0.03905911]),\n",
              " array([9.98691386, 9.77526027]),\n",
              " array([7.70415391, 1.36351795]),\n",
              " array([1.21032039, 3.90178422]),\n",
              " array([9.34538286, 6.69402651]),\n",
              " array([5.71468212, 3.65217003]),\n",
              " array([7.81572914, 7.28960864]),\n",
              " array([3.882739  , 4.92230617]),\n",
              " array([4.57037383, 4.94704791]),\n",
              " array([8.56813316, 6.34958037])]"
            ]
          },
          "metadata": {
            "tags": []
          },
          "execution_count": 20
        }
      ]
    },
    {
      "cell_type": "code",
      "metadata": {
        "colab": {
          "base_uri": "https://localhost:8080/"
        },
        "id": "dD6RgkMPmLez",
        "outputId": "d592f4d6-9b43-4339-e9fa-5282644c72c3"
      },
      "source": [
        "print(l1)"
      ],
      "execution_count": null,
      "outputs": [
        {
          "output_type": "stream",
          "text": [
            "[[8.248241122047471, 7.298588663831938, 0.7184705734242713, 4.110636422122974, 7.614667602307646, 0.6718188170316375, 6.030702914369709, 2.1995880517400135, 5.29244987780862, 8.16021252208578, 5.728379506858557, 2.1401699545498953, 2.4875404504157563, 3.193095761299003, 4.66293118394986, 5.883569331279233, 4.809973459624545, 9.149123723695054, 3.8076753207613767, 8.4926924866473, 1.6171431444140727, 1.126782630214015, 1.5803830995978219, 2.9340324288142683, 7.668835206089961, 5.8468924030187175, 9.524674910003386, 1.28465669914836, 3.3173301753376916, 3.9301142119392596, 2.044881675857302, 1.1347493762347716, 6.084514775731181, 2.723221415831399, 7.2458736357620745, 0.7991989621572071, 1.8482272397049837, 9.953166346887963, 7.746179228241655, 0.6106943363876915, 8.475052104766242, 5.283952267763599, 2.765096469326079, 2.219251915460508, 3.8349913336605024, 8.143184658454345, 5.033702427299072, 7.756251565249802, 3.4848903441789014, 2.229815953834129, 4.815607598712635, 4.815703453003456, 6.119928319284501, 6.457475799362305, 8.116916900939241, 6.329527636876556, 7.626314479286411, 5.585114101886356, 3.3085449343132067, 2.0640503235613483, 4.758841216986825, 3.6581413722770098, 0.08260967584907242, 4.858005123728074, 0.3513552400301412, 7.812490429276053, 6.867773810530538, 2.04863615302925, 3.599602291438022, 5.726336950820622, 3.4361530009618746, 0.32513018422757445, 0.42900955948255715, 1.0753773130907762, 3.7478213372404987, 9.698057393756658, 5.652923239309456, 0.26673474674758446, 4.993793668978748, 8.39103773802464, 2.0624337242182342, 4.548010903680813, 4.684937886016893, 2.291000222035733, 2.862148459299828, 6.750468184682624, 0.15695778765003499, 0.5813926637343669, 8.347656193900674, 6.330250170478441, 4.258689709910602, 7.498711622019289, 3.9067451668176534, 8.817295243182544, 3.7505049240210955, 5.2499805203371075, 2.8244417983921375, 6.157701070332903, 4.128483538258065, 2.373062566672701], [1.0290980053367726, 5.810626000833911, 14.771993745721879, 10.819875818543562, 8.97962837209416, 14.019103746465333, 10.408395241752665, 12.21542500814225, 3.0575973240842096, 10.292958372910624, 8.003024200339844, 6.456287306070406, 0.20873577299849677, 10.714278245330501, 14.449953861851156, 4.373117761585383, 12.619254134781373, 1.298115160996719, 10.390175073242625, 4.847852060455626, 7.737768873442078, 3.3872083284128824, 9.498116005049017, 11.521955230459346, 3.634749738871089, 3.5176904680578995, 1.3382822213123675, 14.027528352041527, 5.235375712070626, 6.859186951288613, 1.923614084472064, 8.700604921364809, 5.857196356884801, 10.226686487031598, 11.640745334689683, 14.964360791554409, 10.073373863188138, 12.672327101468404, 8.994007428369574, 6.898540468819898, 0.19017913971395017, 2.7808437047555317, 3.9311177263431425, 10.742875534058797, 11.624807319184264, 4.0310462079746525, 1.5406500479439615, 12.51873527416071, 11.582028905027226, 14.666581850358053, 13.24636106836207, 12.547448323932134, 3.05527087955456, 0.8330020770767421, 0.6584081314081153, 6.667507310353739, 1.4381428259150613, 12.980179172984766, 6.920223196154807, 0.08009076748912769, 13.564659543958712, 13.38198246437344, 14.604852438743448, 12.555127019974439, 1.5372315122930202, 3.999636797842225, 6.5967101968467725, 8.790313626086673, 3.07790222071794, 8.798364028932053, 2.3548253571366047, 1.0397735979698919, 8.841679227139778, 5.759636444120326, 9.587630519444259, 14.676511310728099, 10.121459049347285, 8.15596249202548, 10.853509760261488, 14.085527961410273, 0.710725350094365, 4.818031759213564, 3.9393249477765058, 0.17309322947763384, 6.01504115811117, 12.245358154813243, 11.038450992512365, 1.908869745916149, 7.045890541778377, 3.2741296602984638, 2.0856725409152888, 11.789024741464464, 2.3178515804557263, 5.839661547671947, 7.277919376311033, 1.2570300218159114, 11.471624547317466, 10.283418965856583, 3.177358699672313, 0.3187824992406918]]\n"
          ],
          "name": "stdout"
        }
      ]
    },
    {
      "cell_type": "code",
      "metadata": {
        "colab": {
          "base_uri": "https://localhost:8080/",
          "height": 473
        },
        "id": "ll-yBn-cy9tt",
        "outputId": "78182834-3129-4097-dc8d-fb8f3f962db7"
      },
      "source": [
        "tabla = pd.DataFrame(l1,columns=['presion','temperatura'])"
      ],
      "execution_count": null,
      "outputs": [
        {
          "output_type": "error",
          "ename": "ValueError",
          "evalue": "ignored",
          "traceback": [
            "\u001b[0;31m---------------------------------------------------------------------------\u001b[0m",
            "\u001b[0;31mAssertionError\u001b[0m                            Traceback (most recent call last)",
            "\u001b[0;32m/usr/local/lib/python3.6/dist-packages/pandas/core/internals/construction.py\u001b[0m in \u001b[0;36m_list_to_arrays\u001b[0;34m(data, columns, coerce_float, dtype)\u001b[0m\n\u001b[1;32m    563\u001b[0m     \u001b[0;32mtry\u001b[0m\u001b[0;34m:\u001b[0m\u001b[0;34m\u001b[0m\u001b[0;34m\u001b[0m\u001b[0m\n\u001b[0;32m--> 564\u001b[0;31m         \u001b[0mcolumns\u001b[0m \u001b[0;34m=\u001b[0m \u001b[0m_validate_or_indexify_columns\u001b[0m\u001b[0;34m(\u001b[0m\u001b[0mcontent\u001b[0m\u001b[0;34m,\u001b[0m \u001b[0mcolumns\u001b[0m\u001b[0;34m)\u001b[0m\u001b[0;34m\u001b[0m\u001b[0;34m\u001b[0m\u001b[0m\n\u001b[0m\u001b[1;32m    565\u001b[0m         \u001b[0mresult\u001b[0m \u001b[0;34m=\u001b[0m \u001b[0m_convert_object_array\u001b[0m\u001b[0;34m(\u001b[0m\u001b[0mcontent\u001b[0m\u001b[0;34m,\u001b[0m \u001b[0mdtype\u001b[0m\u001b[0;34m=\u001b[0m\u001b[0mdtype\u001b[0m\u001b[0;34m,\u001b[0m \u001b[0mcoerce_float\u001b[0m\u001b[0;34m=\u001b[0m\u001b[0mcoerce_float\u001b[0m\u001b[0;34m)\u001b[0m\u001b[0;34m\u001b[0m\u001b[0;34m\u001b[0m\u001b[0m\n",
            "\u001b[0;32m/usr/local/lib/python3.6/dist-packages/pandas/core/internals/construction.py\u001b[0m in \u001b[0;36m_validate_or_indexify_columns\u001b[0;34m(content, columns)\u001b[0m\n\u001b[1;32m    688\u001b[0m             raise AssertionError(\n\u001b[0;32m--> 689\u001b[0;31m                 \u001b[0;34mf\"{len(columns)} columns passed, passed data had \"\u001b[0m\u001b[0;34m\u001b[0m\u001b[0;34m\u001b[0m\u001b[0m\n\u001b[0m\u001b[1;32m    690\u001b[0m                 \u001b[0;34mf\"{len(content)} columns\"\u001b[0m\u001b[0;34m\u001b[0m\u001b[0;34m\u001b[0m\u001b[0m\n",
            "\u001b[0;31mAssertionError\u001b[0m: 2 columns passed, passed data had 100 columns",
            "\nThe above exception was the direct cause of the following exception:\n",
            "\u001b[0;31mValueError\u001b[0m                                Traceback (most recent call last)",
            "\u001b[0;32m<ipython-input-16-c530b40469ba>\u001b[0m in \u001b[0;36m<module>\u001b[0;34m()\u001b[0m\n\u001b[0;32m----> 1\u001b[0;31m \u001b[0mtabla\u001b[0m \u001b[0;34m=\u001b[0m \u001b[0mpd\u001b[0m\u001b[0;34m.\u001b[0m\u001b[0mDataFrame\u001b[0m\u001b[0;34m(\u001b[0m\u001b[0ml1\u001b[0m\u001b[0;34m,\u001b[0m\u001b[0mcolumns\u001b[0m\u001b[0;34m=\u001b[0m\u001b[0;34m[\u001b[0m\u001b[0;34m'presion'\u001b[0m\u001b[0;34m,\u001b[0m\u001b[0;34m'temperatura'\u001b[0m\u001b[0;34m]\u001b[0m\u001b[0;34m)\u001b[0m\u001b[0;34m\u001b[0m\u001b[0;34m\u001b[0m\u001b[0m\n\u001b[0m",
            "\u001b[0;32m/usr/local/lib/python3.6/dist-packages/pandas/core/frame.py\u001b[0m in \u001b[0;36m__init__\u001b[0;34m(self, data, index, columns, dtype, copy)\u001b[0m\n\u001b[1;32m    507\u001b[0m                     \u001b[0;32mif\u001b[0m \u001b[0mis_named_tuple\u001b[0m\u001b[0;34m(\u001b[0m\u001b[0mdata\u001b[0m\u001b[0;34m[\u001b[0m\u001b[0;36m0\u001b[0m\u001b[0;34m]\u001b[0m\u001b[0;34m)\u001b[0m \u001b[0;32mand\u001b[0m \u001b[0mcolumns\u001b[0m \u001b[0;32mis\u001b[0m \u001b[0;32mNone\u001b[0m\u001b[0;34m:\u001b[0m\u001b[0;34m\u001b[0m\u001b[0;34m\u001b[0m\u001b[0m\n\u001b[1;32m    508\u001b[0m                         \u001b[0mcolumns\u001b[0m \u001b[0;34m=\u001b[0m \u001b[0mdata\u001b[0m\u001b[0;34m[\u001b[0m\u001b[0;36m0\u001b[0m\u001b[0;34m]\u001b[0m\u001b[0;34m.\u001b[0m\u001b[0m_fields\u001b[0m\u001b[0;34m\u001b[0m\u001b[0;34m\u001b[0m\u001b[0m\n\u001b[0;32m--> 509\u001b[0;31m                     \u001b[0marrays\u001b[0m\u001b[0;34m,\u001b[0m \u001b[0mcolumns\u001b[0m \u001b[0;34m=\u001b[0m \u001b[0mto_arrays\u001b[0m\u001b[0;34m(\u001b[0m\u001b[0mdata\u001b[0m\u001b[0;34m,\u001b[0m \u001b[0mcolumns\u001b[0m\u001b[0;34m,\u001b[0m \u001b[0mdtype\u001b[0m\u001b[0;34m=\u001b[0m\u001b[0mdtype\u001b[0m\u001b[0;34m)\u001b[0m\u001b[0;34m\u001b[0m\u001b[0;34m\u001b[0m\u001b[0m\n\u001b[0m\u001b[1;32m    510\u001b[0m                     \u001b[0mcolumns\u001b[0m \u001b[0;34m=\u001b[0m \u001b[0mensure_index\u001b[0m\u001b[0;34m(\u001b[0m\u001b[0mcolumns\u001b[0m\u001b[0;34m)\u001b[0m\u001b[0;34m\u001b[0m\u001b[0;34m\u001b[0m\u001b[0m\n\u001b[1;32m    511\u001b[0m \u001b[0;34m\u001b[0m\u001b[0m\n",
            "\u001b[0;32m/usr/local/lib/python3.6/dist-packages/pandas/core/internals/construction.py\u001b[0m in \u001b[0;36mto_arrays\u001b[0;34m(data, columns, coerce_float, dtype)\u001b[0m\n\u001b[1;32m    522\u001b[0m         \u001b[0;32mreturn\u001b[0m \u001b[0;34m[\u001b[0m\u001b[0;34m]\u001b[0m\u001b[0;34m,\u001b[0m \u001b[0;34m[\u001b[0m\u001b[0;34m]\u001b[0m  \u001b[0;31m# columns if columns is not None else []\u001b[0m\u001b[0;34m\u001b[0m\u001b[0;34m\u001b[0m\u001b[0m\n\u001b[1;32m    523\u001b[0m     \u001b[0;32mif\u001b[0m \u001b[0misinstance\u001b[0m\u001b[0;34m(\u001b[0m\u001b[0mdata\u001b[0m\u001b[0;34m[\u001b[0m\u001b[0;36m0\u001b[0m\u001b[0;34m]\u001b[0m\u001b[0;34m,\u001b[0m \u001b[0;34m(\u001b[0m\u001b[0mlist\u001b[0m\u001b[0;34m,\u001b[0m \u001b[0mtuple\u001b[0m\u001b[0;34m)\u001b[0m\u001b[0;34m)\u001b[0m\u001b[0;34m:\u001b[0m\u001b[0;34m\u001b[0m\u001b[0;34m\u001b[0m\u001b[0m\n\u001b[0;32m--> 524\u001b[0;31m         \u001b[0;32mreturn\u001b[0m \u001b[0m_list_to_arrays\u001b[0m\u001b[0;34m(\u001b[0m\u001b[0mdata\u001b[0m\u001b[0;34m,\u001b[0m \u001b[0mcolumns\u001b[0m\u001b[0;34m,\u001b[0m \u001b[0mcoerce_float\u001b[0m\u001b[0;34m=\u001b[0m\u001b[0mcoerce_float\u001b[0m\u001b[0;34m,\u001b[0m \u001b[0mdtype\u001b[0m\u001b[0;34m=\u001b[0m\u001b[0mdtype\u001b[0m\u001b[0;34m)\u001b[0m\u001b[0;34m\u001b[0m\u001b[0;34m\u001b[0m\u001b[0m\n\u001b[0m\u001b[1;32m    525\u001b[0m     \u001b[0;32melif\u001b[0m \u001b[0misinstance\u001b[0m\u001b[0;34m(\u001b[0m\u001b[0mdata\u001b[0m\u001b[0;34m[\u001b[0m\u001b[0;36m0\u001b[0m\u001b[0;34m]\u001b[0m\u001b[0;34m,\u001b[0m \u001b[0mabc\u001b[0m\u001b[0;34m.\u001b[0m\u001b[0mMapping\u001b[0m\u001b[0;34m)\u001b[0m\u001b[0;34m:\u001b[0m\u001b[0;34m\u001b[0m\u001b[0;34m\u001b[0m\u001b[0m\n\u001b[1;32m    526\u001b[0m         return _list_of_dict_to_arrays(\n",
            "\u001b[0;32m/usr/local/lib/python3.6/dist-packages/pandas/core/internals/construction.py\u001b[0m in \u001b[0;36m_list_to_arrays\u001b[0;34m(data, columns, coerce_float, dtype)\u001b[0m\n\u001b[1;32m    565\u001b[0m         \u001b[0mresult\u001b[0m \u001b[0;34m=\u001b[0m \u001b[0m_convert_object_array\u001b[0m\u001b[0;34m(\u001b[0m\u001b[0mcontent\u001b[0m\u001b[0;34m,\u001b[0m \u001b[0mdtype\u001b[0m\u001b[0;34m=\u001b[0m\u001b[0mdtype\u001b[0m\u001b[0;34m,\u001b[0m \u001b[0mcoerce_float\u001b[0m\u001b[0;34m=\u001b[0m\u001b[0mcoerce_float\u001b[0m\u001b[0;34m)\u001b[0m\u001b[0;34m\u001b[0m\u001b[0;34m\u001b[0m\u001b[0m\n\u001b[1;32m    566\u001b[0m     \u001b[0;32mexcept\u001b[0m \u001b[0mAssertionError\u001b[0m \u001b[0;32mas\u001b[0m \u001b[0me\u001b[0m\u001b[0;34m:\u001b[0m\u001b[0;34m\u001b[0m\u001b[0;34m\u001b[0m\u001b[0m\n\u001b[0;32m--> 567\u001b[0;31m         \u001b[0;32mraise\u001b[0m \u001b[0mValueError\u001b[0m\u001b[0;34m(\u001b[0m\u001b[0me\u001b[0m\u001b[0;34m)\u001b[0m \u001b[0;32mfrom\u001b[0m \u001b[0me\u001b[0m\u001b[0;34m\u001b[0m\u001b[0;34m\u001b[0m\u001b[0m\n\u001b[0m\u001b[1;32m    568\u001b[0m     \u001b[0;32mreturn\u001b[0m \u001b[0mresult\u001b[0m\u001b[0;34m,\u001b[0m \u001b[0mcolumns\u001b[0m\u001b[0;34m\u001b[0m\u001b[0;34m\u001b[0m\u001b[0m\n\u001b[1;32m    569\u001b[0m \u001b[0;34m\u001b[0m\u001b[0m\n",
            "\u001b[0;31mValueError\u001b[0m: 2 columns passed, passed data had 100 columns"
          ]
        }
      ]
    },
    {
      "cell_type": "code",
      "metadata": {
        "id": "lSOhWnU8mPQR"
      },
      "source": [
        "list1 = [1,3,4,5,6]\n",
        "dicc = (2,4,5)\n",
        "sset = {2,3,4}\n",
        "x = np.array(sset)"
      ],
      "execution_count": null,
      "outputs": []
    },
    {
      "cell_type": "code",
      "metadata": {
        "id": "dCzhAKD-mwgj"
      },
      "source": [],
      "execution_count": null,
      "outputs": []
    },
    {
      "cell_type": "code",
      "metadata": {
        "colab": {
          "base_uri": "https://localhost:8080/"
        },
        "id": "9zfXPTERmxG0",
        "outputId": "0eb61c68-b321-41b6-9387-83b111765c3b"
      },
      "source": [
        "type(x)"
      ],
      "execution_count": null,
      "outputs": [
        {
          "output_type": "execute_result",
          "data": {
            "text/plain": [
              "numpy.ndarray"
            ]
          },
          "metadata": {
            "tags": []
          },
          "execution_count": 26
        }
      ]
    },
    {
      "cell_type": "code",
      "metadata": {
        "colab": {
          "base_uri": "https://localhost:8080/"
        },
        "id": "T1E0Yp2_myWe",
        "outputId": "cc8d94c1-7851-4086-bea4-0ff9f3d7d982"
      },
      "source": [
        "a = np.array([8,3,4])\n",
        "print(a)"
      ],
      "execution_count": null,
      "outputs": [
        {
          "output_type": "stream",
          "text": [
            "[8 3 4]\n"
          ],
          "name": "stdout"
        }
      ]
    },
    {
      "cell_type": "code",
      "metadata": {
        "id": "ubQqu5TvnYB6"
      },
      "source": [
        "a.sort()"
      ],
      "execution_count": null,
      "outputs": []
    },
    {
      "cell_type": "code",
      "metadata": {
        "colab": {
          "base_uri": "https://localhost:8080/"
        },
        "id": "9UPB8TQVnalk",
        "outputId": "beececd5-3856-4007-f791-7967c9a80ae4"
      },
      "source": [
        "a"
      ],
      "execution_count": null,
      "outputs": [
        {
          "output_type": "execute_result",
          "data": {
            "text/plain": [
              "array([3, 4, 8])"
            ]
          },
          "metadata": {
            "tags": []
          },
          "execution_count": 37
        }
      ]
    },
    {
      "cell_type": "code",
      "metadata": {
        "colab": {
          "base_uri": "https://localhost:8080/"
        },
        "id": "hIUXk395nbLe",
        "outputId": "5a0c6f66-b99c-4bd8-af89-f8ad989b7cf7"
      },
      "source": [
        "print(a)"
      ],
      "execution_count": null,
      "outputs": [
        {
          "output_type": "stream",
          "text": [
            "[3 4 8]\n"
          ],
          "name": "stdout"
        }
      ]
    },
    {
      "cell_type": "code",
      "metadata": {
        "id": "IrnhC7sKndkx"
      },
      "source": [
        "L = [2,3,7,5]\n",
        "L.sort() #ordenar es una función de la librería numpy y funciona con listas.\n"
      ],
      "execution_count": null,
      "outputs": []
    },
    {
      "cell_type": "code",
      "metadata": {
        "colab": {
          "base_uri": "https://localhost:8080/"
        },
        "id": "-1f5_jkKnyuV",
        "outputId": "f0c2a373-074a-4a34-d84c-4317e3a86f18"
      },
      "source": [
        "L"
      ],
      "execution_count": null,
      "outputs": [
        {
          "output_type": "execute_result",
          "data": {
            "text/plain": [
              "[2, 3, 5, 7]"
            ]
          },
          "metadata": {
            "tags": []
          },
          "execution_count": 42
        }
      ]
    },
    {
      "cell_type": "code",
      "metadata": {
        "id": "j8rln6pnnzlj"
      },
      "source": [
        "from numpy import fft"
      ],
      "execution_count": null,
      "outputs": []
    },
    {
      "cell_type": "code",
      "metadata": {
        "id": "THNRcb7UoHD4"
      },
      "source": [
        "fft??"
      ],
      "execution_count": null,
      "outputs": []
    },
    {
      "cell_type": "code",
      "metadata": {
        "id": "DavdYiKRoInJ"
      },
      "source": [
        "fft.fftfreq??"
      ],
      "execution_count": null,
      "outputs": []
    },
    {
      "cell_type": "code",
      "metadata": {
        "id": "n0sHQHZboPgL"
      },
      "source": [
        "fft.fftfreq??"
      ],
      "execution_count": null,
      "outputs": []
    },
    {
      "cell_type": "code",
      "metadata": {
        "id": "U4_OZJOaotv0"
      },
      "source": [
        "from numpy import linalg"
      ],
      "execution_count": null,
      "outputs": []
    },
    {
      "cell_type": "code",
      "metadata": {
        "id": "2vj-uEpTo-kl"
      },
      "source": [
        "linalg??"
      ],
      "execution_count": null,
      "outputs": []
    },
    {
      "cell_type": "code",
      "metadata": {
        "id": "uKckyb2_pAo8"
      },
      "source": [
        "\n",
        "C = np.array([[1,2,4],[2,4,5]])\n",
        "D = np.transpose(C)"
      ],
      "execution_count": null,
      "outputs": []
    },
    {
      "cell_type": "code",
      "metadata": {
        "colab": {
          "base_uri": "https://localhost:8080/"
        },
        "id": "HUyjGD2QpJYT",
        "outputId": "6de4bddf-33c4-4212-be0c-aa07ce61e9c9"
      },
      "source": [
        "print(C)"
      ],
      "execution_count": null,
      "outputs": [
        {
          "output_type": "stream",
          "text": [
            "[[1 2 4]\n",
            " [2 4 5]]\n"
          ],
          "name": "stdout"
        }
      ]
    },
    {
      "cell_type": "code",
      "metadata": {
        "colab": {
          "base_uri": "https://localhost:8080/"
        },
        "id": "vTPRKCF2p7Vw",
        "outputId": "162907a6-29ba-4b18-d4ba-1f35e953b459"
      },
      "source": [
        "print(D)"
      ],
      "execution_count": null,
      "outputs": [
        {
          "output_type": "stream",
          "text": [
            "[[1 2]\n",
            " [2 4]\n",
            " [4 5]]\n"
          ],
          "name": "stdout"
        }
      ]
    },
    {
      "cell_type": "code",
      "metadata": {
        "id": "wfMOSw4Ap8Uo"
      },
      "source": [
        "Matriz = np.identity(4,dtype = 'int')"
      ],
      "execution_count": null,
      "outputs": []
    },
    {
      "cell_type": "code",
      "metadata": {
        "colab": {
          "base_uri": "https://localhost:8080/"
        },
        "id": "OZ7r14LzrHHG",
        "outputId": "f178e6d3-f6db-4c30-954d-5aa4f8ee8778"
      },
      "source": [
        "print(Matriz)"
      ],
      "execution_count": null,
      "outputs": [
        {
          "output_type": "stream",
          "text": [
            "[[1 0 0 0]\n",
            " [0 1 0 0]\n",
            " [0 0 1 0]\n",
            " [0 0 0 1]]\n"
          ],
          "name": "stdout"
        }
      ]
    },
    {
      "cell_type": "code",
      "metadata": {
        "id": "qEgSHFktrIyk"
      },
      "source": [
        "Matriz2 = Matriz*2"
      ],
      "execution_count": null,
      "outputs": []
    },
    {
      "cell_type": "code",
      "metadata": {
        "colab": {
          "base_uri": "https://localhost:8080/"
        },
        "id": "RVegQMrGrL2K",
        "outputId": "ec4ca952-dc6f-4c95-8f9e-5b4db6c7a926"
      },
      "source": [
        "Matriz2"
      ],
      "execution_count": null,
      "outputs": [
        {
          "output_type": "execute_result",
          "data": {
            "text/plain": [
              "array([[2, 0, 0, 0],\n",
              "       [0, 2, 0, 0],\n",
              "       [0, 0, 2, 0],\n",
              "       [0, 0, 0, 2]])"
            ]
          },
          "metadata": {
            "tags": []
          },
          "execution_count": 65
        }
      ]
    },
    {
      "cell_type": "code",
      "metadata": {
        "id": "DSUxESWkrMtt"
      },
      "source": [
        "matriz3 = np.eye(4,2)"
      ],
      "execution_count": null,
      "outputs": []
    },
    {
      "cell_type": "code",
      "metadata": {
        "colab": {
          "base_uri": "https://localhost:8080/"
        },
        "id": "7wmpw3a0rbCM",
        "outputId": "cec5e70d-6778-4a75-de4a-133b4d1e54ec"
      },
      "source": [
        "print(matriz3)"
      ],
      "execution_count": null,
      "outputs": [
        {
          "output_type": "stream",
          "text": [
            "[[1. 0.]\n",
            " [0. 1.]\n",
            " [0. 0.]\n",
            " [0. 0.]]\n"
          ],
          "name": "stdout"
        }
      ]
    },
    {
      "cell_type": "code",
      "metadata": {
        "colab": {
          "base_uri": "https://localhost:8080/"
        },
        "id": "q_LOwoDSri2M",
        "outputId": "cdb934b6-6ae0-4828-9915-c92de4b56efe"
      },
      "source": [
        "l = []\n",
        "for i in range(0,10,2):\n",
        "  l.append(i)\n",
        "print(l)"
      ],
      "execution_count": null,
      "outputs": [
        {
          "output_type": "stream",
          "text": [
            "[0, 2, 4, 6, 8, 10, 12, 14, 16, 18, 20, 22, 24, 26, 28, 30, 32, 34, 36, 38, 40, 42, 44, 46, 48, 50, 52, 54, 56, 58, 60, 62, 64, 66, 68, 70, 72, 74, 76, 78, 80, 82, 84, 86, 88, 90, 92, 94, 96, 98]\n"
          ],
          "name": "stdout"
        }
      ]
    },
    {
      "cell_type": "code",
      "metadata": {
        "colab": {
          "base_uri": "https://localhost:8080/"
        },
        "id": "ca_xBm8zr1xW",
        "outputId": "5697d8b7-e940-4d8e-b75b-e8144d044e9a"
      },
      "source": [
        "vector1 = np.linspace(1,100,50,dtype=int)\n",
        "print(vector1)"
      ],
      "execution_count": null,
      "outputs": [
        {
          "output_type": "stream",
          "text": [
            "[  1   3   5   7   9  11  13  15  17  19  21  23  25  27  29  31  33  35\n",
            "  37  39  41  43  45  47  49  51  53  55  57  59  61  63  65  67  69  71\n",
            "  73  75  77  79  81  83  85  87  89  91  93  95  97 100]\n"
          ],
          "name": "stdout"
        }
      ]
    },
    {
      "cell_type": "code",
      "metadata": {
        "id": "BCY7C5jrsHdz"
      },
      "source": [
        "vector1 = np.linspace(1,10,100)"
      ],
      "execution_count": null,
      "outputs": []
    },
    {
      "cell_type": "code",
      "metadata": {
        "colab": {
          "base_uri": "https://localhost:8080/"
        },
        "id": "Q5uW99l2sfO7",
        "outputId": "b6e2a11e-e76a-466d-90e8-563e174489f9"
      },
      "source": [
        "vector2 = np.round(vector1,2)\n",
        "print(vector2)"
      ],
      "execution_count": null,
      "outputs": [
        {
          "output_type": "stream",
          "text": [
            "[ 1.    1.09  1.18  1.27  1.36  1.45  1.55  1.64  1.73  1.82  1.91  2.\n",
            "  2.09  2.18  2.27  2.36  2.45  2.55  2.64  2.73  2.82  2.91  3.    3.09\n",
            "  3.18  3.27  3.36  3.45  3.55  3.64  3.73  3.82  3.91  4.    4.09  4.18\n",
            "  4.27  4.36  4.45  4.55  4.64  4.73  4.82  4.91  5.    5.09  5.18  5.27\n",
            "  5.36  5.45  5.55  5.64  5.73  5.82  5.91  6.    6.09  6.18  6.27  6.36\n",
            "  6.45  6.55  6.64  6.73  6.82  6.91  7.    7.09  7.18  7.27  7.36  7.45\n",
            "  7.55  7.64  7.73  7.82  7.91  8.    8.09  8.18  8.27  8.36  8.45  8.55\n",
            "  8.64  8.73  8.82  8.91  9.    9.09  9.18  9.27  9.36  9.45  9.55  9.64\n",
            "  9.73  9.82  9.91 10.  ]\n"
          ],
          "name": "stdout"
        }
      ]
    },
    {
      "cell_type": "code",
      "metadata": {
        "id": "6barFfHbsgFR"
      },
      "source": [
        "vector3 = np.linspace(1,5,100)"
      ],
      "execution_count": null,
      "outputs": []
    },
    {
      "cell_type": "code",
      "metadata": {
        "id": "uBGIoUFAvNIE"
      },
      "source": [
        "vector4 = np.round(vector3)"
      ],
      "execution_count": null,
      "outputs": []
    },
    {
      "cell_type": "code",
      "metadata": {
        "id": "-S-CMxSHvPdX"
      },
      "source": [
        "matriz = np.array([[vector2],[vector4]]) #crear una matriz utilizando vectores con linspace"
      ],
      "execution_count": null,
      "outputs": []
    },
    {
      "cell_type": "code",
      "metadata": {
        "colab": {
          "base_uri": "https://localhost:8080/"
        },
        "id": "dfT-n3BtvVjp",
        "outputId": "043929a0-dbc7-4452-f671-97e93213c8bb"
      },
      "source": [
        "matriz"
      ],
      "execution_count": null,
      "outputs": [
        {
          "output_type": "execute_result",
          "data": {
            "text/plain": [
              "array([[[ 1.  ,  1.09,  1.18,  1.27,  1.36,  1.45,  1.55,  1.64,  1.73,\n",
              "          1.82,  1.91,  2.  ,  2.09,  2.18,  2.27,  2.36,  2.45,  2.55,\n",
              "          2.64,  2.73,  2.82,  2.91,  3.  ,  3.09,  3.18,  3.27,  3.36,\n",
              "          3.45,  3.55,  3.64,  3.73,  3.82,  3.91,  4.  ,  4.09,  4.18,\n",
              "          4.27,  4.36,  4.45,  4.55,  4.64,  4.73,  4.82,  4.91,  5.  ,\n",
              "          5.09,  5.18,  5.27,  5.36,  5.45,  5.55,  5.64,  5.73,  5.82,\n",
              "          5.91,  6.  ,  6.09,  6.18,  6.27,  6.36,  6.45,  6.55,  6.64,\n",
              "          6.73,  6.82,  6.91,  7.  ,  7.09,  7.18,  7.27,  7.36,  7.45,\n",
              "          7.55,  7.64,  7.73,  7.82,  7.91,  8.  ,  8.09,  8.18,  8.27,\n",
              "          8.36,  8.45,  8.55,  8.64,  8.73,  8.82,  8.91,  9.  ,  9.09,\n",
              "          9.18,  9.27,  9.36,  9.45,  9.55,  9.64,  9.73,  9.82,  9.91,\n",
              "         10.  ]],\n",
              "\n",
              "       [[ 1.  ,  1.  ,  1.  ,  1.  ,  1.  ,  1.  ,  1.  ,  1.  ,  1.  ,\n",
              "          1.  ,  1.  ,  1.  ,  1.  ,  2.  ,  2.  ,  2.  ,  2.  ,  2.  ,\n",
              "          2.  ,  2.  ,  2.  ,  2.  ,  2.  ,  2.  ,  2.  ,  2.  ,  2.  ,\n",
              "          2.  ,  2.  ,  2.  ,  2.  ,  2.  ,  2.  ,  2.  ,  2.  ,  2.  ,\n",
              "          2.  ,  2.  ,  3.  ,  3.  ,  3.  ,  3.  ,  3.  ,  3.  ,  3.  ,\n",
              "          3.  ,  3.  ,  3.  ,  3.  ,  3.  ,  3.  ,  3.  ,  3.  ,  3.  ,\n",
              "          3.  ,  3.  ,  3.  ,  3.  ,  3.  ,  3.  ,  3.  ,  3.  ,  4.  ,\n",
              "          4.  ,  4.  ,  4.  ,  4.  ,  4.  ,  4.  ,  4.  ,  4.  ,  4.  ,\n",
              "          4.  ,  4.  ,  4.  ,  4.  ,  4.  ,  4.  ,  4.  ,  4.  ,  4.  ,\n",
              "          4.  ,  4.  ,  4.  ,  4.  ,  4.  ,  4.  ,  5.  ,  5.  ,  5.  ,\n",
              "          5.  ,  5.  ,  5.  ,  5.  ,  5.  ,  5.  ,  5.  ,  5.  ,  5.  ,\n",
              "          5.  ]]])"
            ]
          },
          "metadata": {
            "tags": []
          },
          "execution_count": 92
        }
      ]
    },
    {
      "cell_type": "code",
      "metadata": {
        "id": "Ca7kWRhnvW3C"
      },
      "source": [
        "a = np.array([[1,3,5],[0,1,3],[0,3,4]])\n",
        "b = np.array([[0,2,4],[0,2,4],[1,3,4]])"
      ],
      "execution_count": null,
      "outputs": []
    },
    {
      "cell_type": "code",
      "metadata": {
        "colab": {
          "base_uri": "https://localhost:8080/"
        },
        "id": "2KhmHEv3v4Di",
        "outputId": "10b14fce-ac45-4c3f-bb85-b7ba6f90f1cb"
      },
      "source": [
        "a"
      ],
      "execution_count": null,
      "outputs": [
        {
          "output_type": "execute_result",
          "data": {
            "text/plain": [
              "array([[1, 3, 5],\n",
              "       [0, 1, 3],\n",
              "       [0, 3, 4]])"
            ]
          },
          "metadata": {
            "tags": []
          },
          "execution_count": 105
        }
      ]
    },
    {
      "cell_type": "code",
      "metadata": {
        "id": "-1hHWsdUv8sD"
      },
      "source": [
        "c = np.concatenate((a,b),1) #colocamos 1 al concatenar filas con filas, y nada si queremos concatenar columnas con columnas"
      ],
      "execution_count": null,
      "outputs": []
    },
    {
      "cell_type": "code",
      "metadata": {
        "colab": {
          "base_uri": "https://localhost:8080/"
        },
        "id": "LDXxrebdwkvI",
        "outputId": "8abdcb9c-c33f-4115-a70c-6a30b796ff05"
      },
      "source": [
        "c"
      ],
      "execution_count": null,
      "outputs": [
        {
          "output_type": "execute_result",
          "data": {
            "text/plain": [
              "array([[1, 3, 5, 0, 2, 4],\n",
              "       [0, 1, 3, 0, 2, 4],\n",
              "       [0, 3, 4, 1, 3, 4]])"
            ]
          },
          "metadata": {
            "tags": []
          },
          "execution_count": 110
        }
      ]
    },
    {
      "cell_type": "code",
      "metadata": {
        "id": "pkCipmsJwnRh"
      },
      "source": [],
      "execution_count": null,
      "outputs": []
    },
    {
      "cell_type": "markdown",
      "metadata": {
        "id": "nH88iwEpxvKf"
      },
      "source": [
        "# Análisis de datos con Pandas"
      ]
    },
    {
      "cell_type": "code",
      "metadata": {
        "id": "xb0Q05LXxylr"
      },
      "source": [
        "# Indexación\n",
        "\n",
        "import numpy as np\n",
        "import pandas as pd\n",
        "vector1 = np.linspace(1,5,5,dtype='int')"
      ],
      "execution_count": null,
      "outputs": []
    },
    {
      "cell_type": "code",
      "metadata": {
        "id": "PLSh0suVyCM4"
      },
      "source": [
        "ind1 = pd.Series(vector1,index = ['a','b','c','d','e'])"
      ],
      "execution_count": null,
      "outputs": []
    },
    {
      "cell_type": "code",
      "metadata": {
        "colab": {
          "base_uri": "https://localhost:8080/"
        },
        "id": "j2vY8raFyNw4",
        "outputId": "48be56cc-0083-48cb-d547-603c3459b8cd"
      },
      "source": [
        "ind1"
      ],
      "execution_count": null,
      "outputs": [
        {
          "output_type": "execute_result",
          "data": {
            "text/plain": [
              "a    1\n",
              "b    2\n",
              "c    3\n",
              "d    4\n",
              "e    5\n",
              "dtype: int64"
            ]
          },
          "metadata": {
            "tags": []
          },
          "execution_count": 115
        }
      ]
    },
    {
      "cell_type": "code",
      "metadata": {
        "colab": {
          "base_uri": "https://localhost:8080/"
        },
        "id": "RFq704IVyOQs",
        "outputId": "98507d61-2eca-400d-9177-13ee329b95fa"
      },
      "source": [
        "ind1['e']"
      ],
      "execution_count": null,
      "outputs": [
        {
          "output_type": "execute_result",
          "data": {
            "text/plain": [
              "5"
            ]
          },
          "metadata": {
            "tags": []
          },
          "execution_count": 116
        }
      ]
    },
    {
      "cell_type": "code",
      "metadata": {
        "id": "ck9HdS7pyUwI"
      },
      "source": [
        "lista1 = ['ruben', 'tigre', 'marcelo'] #indexar = etiquetar\n",
        "ind2 = pd.Series(lista1,index=['persona','gato','niño'])"
      ],
      "execution_count": null,
      "outputs": []
    },
    {
      "cell_type": "code",
      "metadata": {
        "colab": {
          "base_uri": "https://localhost:8080/"
        },
        "id": "4g8-FZEPymts",
        "outputId": "0ee97c68-b4c9-4958-b3e7-adcde5696951"
      },
      "source": [
        "ind2"
      ],
      "execution_count": null,
      "outputs": [
        {
          "output_type": "execute_result",
          "data": {
            "text/plain": [
              "persona      ruben\n",
              "gato         tigre\n",
              "niño       marcelo\n",
              "dtype: object"
            ]
          },
          "metadata": {
            "tags": []
          },
          "execution_count": 119
        }
      ]
    },
    {
      "cell_type": "code",
      "metadata": {
        "id": "T1Vm4kFwyqWI"
      },
      "source": [
        "alumnos = [{'nombre' : 'María', 'edad' : 19, 'color_fa': 'turquesa'},{'nombre' : 'Marcela', 'edad' : 20, 'color_fa' : 'celeste'},{'nombre' : 'Juan Carlos', 'edad' : 17, 'color_fa': 'rojo'}]"
      ],
      "execution_count": null,
      "outputs": []
    },
    {
      "cell_type": "code",
      "metadata": {
        "id": "YgCaXnUEzOBn"
      },
      "source": [
        "tabla_alumnos = pd.DataFrame(alumnos)"
      ],
      "execution_count": null,
      "outputs": []
    },
    {
      "cell_type": "code",
      "metadata": {
        "colab": {
          "base_uri": "https://localhost:8080/",
          "height": 141
        },
        "id": "NOIEDh8Gzx4a",
        "outputId": "586f0973-5a2c-46d1-b750-a54d01ba4e33"
      },
      "source": [
        "tabla_alumnos"
      ],
      "execution_count": null,
      "outputs": [
        {
          "output_type": "execute_result",
          "data": {
            "text/html": [
              "<div>\n",
              "<style scoped>\n",
              "    .dataframe tbody tr th:only-of-type {\n",
              "        vertical-align: middle;\n",
              "    }\n",
              "\n",
              "    .dataframe tbody tr th {\n",
              "        vertical-align: top;\n",
              "    }\n",
              "\n",
              "    .dataframe thead th {\n",
              "        text-align: right;\n",
              "    }\n",
              "</style>\n",
              "<table border=\"1\" class=\"dataframe\">\n",
              "  <thead>\n",
              "    <tr style=\"text-align: right;\">\n",
              "      <th></th>\n",
              "      <th>nombre</th>\n",
              "      <th>edad</th>\n",
              "      <th>color_fa</th>\n",
              "    </tr>\n",
              "  </thead>\n",
              "  <tbody>\n",
              "    <tr>\n",
              "      <th>0</th>\n",
              "      <td>María</td>\n",
              "      <td>19</td>\n",
              "      <td>turquesa</td>\n",
              "    </tr>\n",
              "    <tr>\n",
              "      <th>1</th>\n",
              "      <td>Marcela</td>\n",
              "      <td>20</td>\n",
              "      <td>celeste</td>\n",
              "    </tr>\n",
              "    <tr>\n",
              "      <th>2</th>\n",
              "      <td>Juan Carlos</td>\n",
              "      <td>17</td>\n",
              "      <td>rojo</td>\n",
              "    </tr>\n",
              "  </tbody>\n",
              "</table>\n",
              "</div>"
            ],
            "text/plain": [
              "        nombre  edad  color_fa\n",
              "0        María    19  turquesa\n",
              "1      Marcela    20   celeste\n",
              "2  Juan Carlos    17      rojo"
            ]
          },
          "metadata": {
            "tags": []
          },
          "execution_count": 125
        }
      ]
    },
    {
      "cell_type": "code",
      "metadata": {
        "id": "SQ0lH_ETzy4O"
      },
      "source": [
        "#subir los archivos a python"
      ],
      "execution_count": null,
      "outputs": []
    },
    {
      "cell_type": "code",
      "metadata": {
        "id": "jcSbpdJZ1Ppn"
      },
      "source": [
        "import pandas as pd\n"
      ],
      "execution_count": null,
      "outputs": []
    },
    {
      "cell_type": "code",
      "metadata": {
        "id": "CzBSJo_oqEWM"
      },
      "source": [
        "tabla_notas = pd.read_csv('notas.csv')"
      ],
      "execution_count": null,
      "outputs": []
    },
    {
      "cell_type": "code",
      "metadata": {
        "colab": {
          "base_uri": "https://localhost:8080/",
          "height": 110
        },
        "id": "F3cyDOL5pTG5",
        "outputId": "3c4f2dd4-ac47-4e30-9bcc-c67aa7c8177d"
      },
      "source": [
        "tabla_notas.head(2)"
      ],
      "execution_count": null,
      "outputs": [
        {
          "output_type": "execute_result",
          "data": {
            "text/html": [
              "<div>\n",
              "<style scoped>\n",
              "    .dataframe tbody tr th:only-of-type {\n",
              "        vertical-align: middle;\n",
              "    }\n",
              "\n",
              "    .dataframe tbody tr th {\n",
              "        vertical-align: top;\n",
              "    }\n",
              "\n",
              "    .dataframe thead th {\n",
              "        text-align: right;\n",
              "    }\n",
              "</style>\n",
              "<table border=\"1\" class=\"dataframe\">\n",
              "  <thead>\n",
              "    <tr style=\"text-align: right;\">\n",
              "      <th></th>\n",
              "      <th>Unnamed: 0</th>\n",
              "      <th>Nombre</th>\n",
              "      <th>Edad</th>\n",
              "      <th>Sexo</th>\n",
              "      <th>Nota1</th>\n",
              "      <th>Nota2</th>\n",
              "      <th>Nota3</th>\n",
              "      <th>Aula</th>\n",
              "    </tr>\n",
              "  </thead>\n",
              "  <tbody>\n",
              "    <tr>\n",
              "      <th>0</th>\n",
              "      <td>0</td>\n",
              "      <td>Marco</td>\n",
              "      <td>14</td>\n",
              "      <td>Masculino</td>\n",
              "      <td>17.0</td>\n",
              "      <td>13.0</td>\n",
              "      <td>11.0</td>\n",
              "      <td>Roja</td>\n",
              "    </tr>\n",
              "    <tr>\n",
              "      <th>1</th>\n",
              "      <td>1</td>\n",
              "      <td>Alberto</td>\n",
              "      <td>16</td>\n",
              "      <td>Masculino</td>\n",
              "      <td>14.0</td>\n",
              "      <td>13.0</td>\n",
              "      <td>14.0</td>\n",
              "      <td>Roja</td>\n",
              "    </tr>\n",
              "  </tbody>\n",
              "</table>\n",
              "</div>"
            ],
            "text/plain": [
              "   Unnamed: 0   Nombre  Edad       Sexo  Nota1  Nota2  Nota3  Aula\n",
              "0           0    Marco    14  Masculino   17.0   13.0   11.0  Roja\n",
              "1           1  Alberto    16  Masculino   14.0   13.0   14.0  Roja"
            ]
          },
          "metadata": {
            "tags": []
          },
          "execution_count": 13
        }
      ]
    },
    {
      "cell_type": "code",
      "metadata": {
        "colab": {
          "base_uri": "https://localhost:8080/",
          "height": 141
        },
        "id": "EZUdUu_EpXXh",
        "outputId": "808bdb72-10b6-40d6-e96c-b8186ecaa01d"
      },
      "source": [
        "tabla_notas.tail(3)"
      ],
      "execution_count": null,
      "outputs": [
        {
          "output_type": "execute_result",
          "data": {
            "text/html": [
              "<div>\n",
              "<style scoped>\n",
              "    .dataframe tbody tr th:only-of-type {\n",
              "        vertical-align: middle;\n",
              "    }\n",
              "\n",
              "    .dataframe tbody tr th {\n",
              "        vertical-align: top;\n",
              "    }\n",
              "\n",
              "    .dataframe thead th {\n",
              "        text-align: right;\n",
              "    }\n",
              "</style>\n",
              "<table border=\"1\" class=\"dataframe\">\n",
              "  <thead>\n",
              "    <tr style=\"text-align: right;\">\n",
              "      <th></th>\n",
              "      <th>Unnamed: 0</th>\n",
              "      <th>Nombre</th>\n",
              "      <th>Edad</th>\n",
              "      <th>Sexo</th>\n",
              "      <th>Nota1</th>\n",
              "      <th>Nota2</th>\n",
              "      <th>Nota3</th>\n",
              "      <th>Aula</th>\n",
              "    </tr>\n",
              "  </thead>\n",
              "  <tbody>\n",
              "    <tr>\n",
              "      <th>17</th>\n",
              "      <td>17</td>\n",
              "      <td>Juliana</td>\n",
              "      <td>17</td>\n",
              "      <td>Femenino</td>\n",
              "      <td>13.0</td>\n",
              "      <td>17.0</td>\n",
              "      <td>18.0</td>\n",
              "      <td>Roja</td>\n",
              "    </tr>\n",
              "    <tr>\n",
              "      <th>18</th>\n",
              "      <td>18</td>\n",
              "      <td>Estefani</td>\n",
              "      <td>14</td>\n",
              "      <td>Femenino</td>\n",
              "      <td>17.0</td>\n",
              "      <td>14.0</td>\n",
              "      <td>14.4</td>\n",
              "      <td>Roja</td>\n",
              "    </tr>\n",
              "    <tr>\n",
              "      <th>19</th>\n",
              "      <td>19</td>\n",
              "      <td>Julissa</td>\n",
              "      <td>15</td>\n",
              "      <td>Femenino</td>\n",
              "      <td>19.0</td>\n",
              "      <td>19.0</td>\n",
              "      <td>14.5</td>\n",
              "      <td>Roja</td>\n",
              "    </tr>\n",
              "  </tbody>\n",
              "</table>\n",
              "</div>"
            ],
            "text/plain": [
              "    Unnamed: 0    Nombre  Edad      Sexo  Nota1  Nota2  Nota3  Aula\n",
              "17          17   Juliana    17  Femenino   13.0   17.0   18.0  Roja\n",
              "18          18  Estefani    14  Femenino   17.0   14.0   14.4  Roja\n",
              "19          19   Julissa    15  Femenino   19.0   19.0   14.5  Roja"
            ]
          },
          "metadata": {
            "tags": []
          },
          "execution_count": 14
        }
      ]
    },
    {
      "cell_type": "code",
      "metadata": {
        "colab": {
          "base_uri": "https://localhost:8080/"
        },
        "id": "QtGb8Jzmphf_",
        "outputId": "d8e549be-2a14-4500-8088-b410cee03331"
      },
      "source": [
        "print(len(tabla_notas))"
      ],
      "execution_count": null,
      "outputs": [
        {
          "output_type": "stream",
          "text": [
            "20\n"
          ],
          "name": "stdout"
        }
      ]
    },
    {
      "cell_type": "code",
      "metadata": {
        "id": "2uOM888-pptu"
      },
      "source": [
        "columnas = tabla_notas.columns"
      ],
      "execution_count": null,
      "outputs": []
    },
    {
      "cell_type": "code",
      "metadata": {
        "colab": {
          "base_uri": "https://localhost:8080/"
        },
        "id": "EEHsw370qpAY",
        "outputId": "0602c514-68db-418f-cc38-8312e6f86a85"
      },
      "source": [
        "print(tabla_notas.columns)"
      ],
      "execution_count": null,
      "outputs": [
        {
          "output_type": "stream",
          "text": [
            "Index(['Unnamed: 0', 'Nombre', 'Edad', 'Sexo', 'Nota1', 'Nota2', 'Nota3',\n",
            "       'Aula'],\n",
            "      dtype='object')\n"
          ],
          "name": "stdout"
        }
      ]
    },
    {
      "cell_type": "code",
      "metadata": {
        "colab": {
          "base_uri": "https://localhost:8080/"
        },
        "id": "_kW1ASZgqsnM",
        "outputId": "0a7fe722-059b-470d-de82-775aeec34e75"
      },
      "source": [
        "type(columnas)"
      ],
      "execution_count": null,
      "outputs": [
        {
          "output_type": "execute_result",
          "data": {
            "text/plain": [
              "pandas.core.indexes.base.Index"
            ]
          },
          "metadata": {
            "tags": []
          },
          "execution_count": 19
        }
      ]
    },
    {
      "cell_type": "code",
      "metadata": {
        "id": "8a-4KKUMq2O_"
      },
      "source": [
        "Nombres = tabla_notas['Nombre']"
      ],
      "execution_count": null,
      "outputs": []
    },
    {
      "cell_type": "code",
      "metadata": {
        "colab": {
          "base_uri": "https://localhost:8080/"
        },
        "id": "6p7zI_jDrbrZ",
        "outputId": "83da9d6c-3f47-4d7b-f86b-38d56cc4a745"
      },
      "source": [
        "print(Nombres)"
      ],
      "execution_count": null,
      "outputs": [
        {
          "output_type": "stream",
          "text": [
            "0           Marco\n",
            "1         Alberto\n",
            "2          Roxana\n",
            "3           Mario\n",
            "4           Pedro\n",
            "5     Juan Carlos\n",
            "6          Julian\n",
            "7           Jorge\n",
            "8         Esteban\n",
            "9      Juan Diego\n",
            "10      Maricielo\n",
            "11          María\n",
            "12         Matías\n",
            "13       Fernanda\n",
            "14          Mateo\n",
            "15        Mariana\n",
            "16      Petronila\n",
            "17        Juliana\n",
            "18       Estefani\n",
            "19        Julissa\n",
            "Name: Nombre, dtype: object\n"
          ],
          "name": "stdout"
        }
      ]
    },
    {
      "cell_type": "code",
      "metadata": {
        "id": "uLvDj87Yrd3I"
      },
      "source": [
        "Nombres = list(Nombres)"
      ],
      "execution_count": null,
      "outputs": []
    },
    {
      "cell_type": "code",
      "metadata": {
        "colab": {
          "base_uri": "https://localhost:8080/"
        },
        "id": "3oltf1RarjOE",
        "outputId": "91ffd42f-3731-45ce-926e-5f0dc1d71e40"
      },
      "source": [
        "print(Nombres)"
      ],
      "execution_count": null,
      "outputs": [
        {
          "output_type": "stream",
          "text": [
            "['Marco', 'Alberto', 'Roxana', 'Mario', 'Pedro', 'Juan Carlos', 'Julian', 'Jorge', 'Esteban', 'Juan Diego', 'Maricielo', 'María', 'Matías', 'Fernanda', 'Mateo', 'Mariana', 'Petronila', 'Juliana', 'Estefani', 'Julissa']\n"
          ],
          "name": "stdout"
        }
      ]
    },
    {
      "cell_type": "code",
      "metadata": {
        "id": "rePBEo8arl2T"
      },
      "source": [
        "import numpy as np\n",
        "Nombres = np.array(Nombres)"
      ],
      "execution_count": null,
      "outputs": []
    },
    {
      "cell_type": "code",
      "metadata": {
        "colab": {
          "base_uri": "https://localhost:8080/"
        },
        "id": "VsSevhJ6r-y7",
        "outputId": "ac82f949-f8c1-4d31-c69a-315627d1e3a1"
      },
      "source": [
        "type(Nombres)"
      ],
      "execution_count": null,
      "outputs": [
        {
          "output_type": "execute_result",
          "data": {
            "text/plain": [
              "numpy.ndarray"
            ]
          },
          "metadata": {
            "tags": []
          },
          "execution_count": 26
        }
      ]
    },
    {
      "cell_type": "code",
      "metadata": {
        "colab": {
          "base_uri": "https://localhost:8080/"
        },
        "id": "LId3FYqSsAHj",
        "outputId": "2948e8d5-0016-484d-e263-ca0512f4c3ee"
      },
      "source": [
        "print(tabla_notas['Nombre'][0:4]) # el índice final, no ha sido tomado como valor"
      ],
      "execution_count": null,
      "outputs": [
        {
          "output_type": "stream",
          "text": [
            "0      Marco\n",
            "1    Alberto\n",
            "2     Roxana\n",
            "3      Mario\n",
            "Name: Nombre, dtype: object\n"
          ],
          "name": "stdout"
        }
      ]
    },
    {
      "cell_type": "code",
      "metadata": {
        "id": "5pte55aqs9Pc"
      },
      "source": [
        "Nombres_2 = tabla_notas['Nombre'][0:4]"
      ],
      "execution_count": null,
      "outputs": []
    },
    {
      "cell_type": "code",
      "metadata": {
        "colab": {
          "base_uri": "https://localhost:8080/"
        },
        "id": "awYWDG9etNAW",
        "outputId": "684ecc93-b7a1-41ea-b0b9-7358aabd75ae"
      },
      "source": [
        "Nombres_2"
      ],
      "execution_count": null,
      "outputs": [
        {
          "output_type": "execute_result",
          "data": {
            "text/plain": [
              "0      Marco\n",
              "1    Alberto\n",
              "2     Roxana\n",
              "3      Mario\n",
              "Name: Nombre, dtype: object"
            ]
          },
          "metadata": {
            "tags": []
          },
          "execution_count": 31
        }
      ]
    },
    {
      "cell_type": "code",
      "metadata": {
        "colab": {
          "base_uri": "https://localhost:8080/"
        },
        "id": "aLBBj6W8tOJB",
        "outputId": "ce1c8572-dda4-4209-fa96-bbbc2d3ad721"
      },
      "source": [
        "#funcion iloc--llamar a una o a varias filas por el valor de su índice\n",
        "\n",
        "print(tabla_notas.iloc[0])\n"
      ],
      "execution_count": null,
      "outputs": [
        {
          "output_type": "stream",
          "text": [
            "Unnamed: 0            0\n",
            "Nombre            Marco\n",
            "Edad                 14\n",
            "Sexo          Masculino\n",
            "Nota1                17\n",
            "Nota2                13\n",
            "Nota3                11\n",
            "Aula               Roja\n",
            "Name: 0, dtype: object\n"
          ],
          "name": "stdout"
        }
      ]
    },
    {
      "cell_type": "code",
      "metadata": {
        "colab": {
          "base_uri": "https://localhost:8080/"
        },
        "id": "YsDIdHBTt9Ts",
        "outputId": "8b0dd5d2-8865-46ba-d348-486b259201de"
      },
      "source": [
        "print(tabla_notas.iloc[0:4])"
      ],
      "execution_count": null,
      "outputs": [
        {
          "output_type": "stream",
          "text": [
            "   Unnamed: 0   Nombre  Edad       Sexo  Nota1  Nota2  Nota3  Aula\n",
            "0           0    Marco    14  Masculino   17.0   13.0   11.0  Roja\n",
            "1           1  Alberto    16  Masculino   14.0   13.0   14.0  Roja\n",
            "2           2   Roxana    15   Femenino   15.0   14.0   15.0  Roja\n",
            "3           3    Mario    15  Masculino   16.0   13.0   11.0  Roja\n"
          ],
          "name": "stdout"
        }
      ]
    },
    {
      "cell_type": "code",
      "metadata": {
        "id": "8XHcIjVOuBN5"
      },
      "source": [
        "##Filtrar valores en las tablas"
      ],
      "execution_count": null,
      "outputs": []
    },
    {
      "cell_type": "code",
      "metadata": {
        "id": "JizxJ0HfuP8A"
      },
      "source": [
        "#¿cuántos alumnos hay en el aula roja?\n",
        "aula_roja = tabla_notas.loc[tabla_notas['Aula'] == 'Roja']"
      ],
      "execution_count": null,
      "outputs": []
    },
    {
      "cell_type": "code",
      "metadata": {
        "colab": {
          "base_uri": "https://localhost:8080/"
        },
        "id": "6HYpr8QVvkEi",
        "outputId": "e3e7fde9-c73d-41d9-f4df-9bfbb8b2b085"
      },
      "source": [
        "print(len(aula_roja))"
      ],
      "execution_count": null,
      "outputs": [
        {
          "output_type": "stream",
          "text": [
            "13\n"
          ],
          "name": "stdout"
        }
      ]
    },
    {
      "cell_type": "code",
      "metadata": {
        "colab": {
          "base_uri": "https://localhost:8080/",
          "height": 141
        },
        "id": "00d8KJ73vykF",
        "outputId": "f21a371b-7139-4b87-d7fc-bf978b71b5f6"
      },
      "source": [
        "tabla_notas.head(3)"
      ],
      "execution_count": null,
      "outputs": [
        {
          "output_type": "execute_result",
          "data": {
            "text/html": [
              "<div>\n",
              "<style scoped>\n",
              "    .dataframe tbody tr th:only-of-type {\n",
              "        vertical-align: middle;\n",
              "    }\n",
              "\n",
              "    .dataframe tbody tr th {\n",
              "        vertical-align: top;\n",
              "    }\n",
              "\n",
              "    .dataframe thead th {\n",
              "        text-align: right;\n",
              "    }\n",
              "</style>\n",
              "<table border=\"1\" class=\"dataframe\">\n",
              "  <thead>\n",
              "    <tr style=\"text-align: right;\">\n",
              "      <th></th>\n",
              "      <th>Unnamed: 0</th>\n",
              "      <th>Nombre</th>\n",
              "      <th>Edad</th>\n",
              "      <th>Sexo</th>\n",
              "      <th>Nota1</th>\n",
              "      <th>Nota2</th>\n",
              "      <th>Nota3</th>\n",
              "      <th>Aula</th>\n",
              "    </tr>\n",
              "  </thead>\n",
              "  <tbody>\n",
              "    <tr>\n",
              "      <th>0</th>\n",
              "      <td>0</td>\n",
              "      <td>Marco</td>\n",
              "      <td>14</td>\n",
              "      <td>Masculino</td>\n",
              "      <td>17.0</td>\n",
              "      <td>13.0</td>\n",
              "      <td>11.0</td>\n",
              "      <td>Roja</td>\n",
              "    </tr>\n",
              "    <tr>\n",
              "      <th>1</th>\n",
              "      <td>1</td>\n",
              "      <td>Alberto</td>\n",
              "      <td>16</td>\n",
              "      <td>Masculino</td>\n",
              "      <td>14.0</td>\n",
              "      <td>13.0</td>\n",
              "      <td>14.0</td>\n",
              "      <td>Roja</td>\n",
              "    </tr>\n",
              "    <tr>\n",
              "      <th>2</th>\n",
              "      <td>2</td>\n",
              "      <td>Roxana</td>\n",
              "      <td>15</td>\n",
              "      <td>Femenino</td>\n",
              "      <td>15.0</td>\n",
              "      <td>14.0</td>\n",
              "      <td>15.0</td>\n",
              "      <td>Roja</td>\n",
              "    </tr>\n",
              "  </tbody>\n",
              "</table>\n",
              "</div>"
            ],
            "text/plain": [
              "   Unnamed: 0   Nombre  Edad       Sexo  Nota1  Nota2  Nota3  Aula\n",
              "0           0    Marco    14  Masculino   17.0   13.0   11.0  Roja\n",
              "1           1  Alberto    16  Masculino   14.0   13.0   14.0  Roja\n",
              "2           2   Roxana    15   Femenino   15.0   14.0   15.0  Roja"
            ]
          },
          "metadata": {
            "tags": []
          },
          "execution_count": 40
        }
      ]
    },
    {
      "cell_type": "code",
      "metadata": {
        "id": "olom_g0IwDq2"
      },
      "source": [
        "tabla_notas = tabla_notas.drop(columns = ['Unnamed: 0'])"
      ],
      "execution_count": null,
      "outputs": []
    },
    {
      "cell_type": "code",
      "metadata": {
        "colab": {
          "base_uri": "https://localhost:8080/",
          "height": 141
        },
        "id": "X3uBuo-NwR6V",
        "outputId": "ee4eb670-1ae4-4de5-9d6e-bde449578347"
      },
      "source": [
        "tabla_notas.head(3)"
      ],
      "execution_count": null,
      "outputs": [
        {
          "output_type": "execute_result",
          "data": {
            "text/html": [
              "<div>\n",
              "<style scoped>\n",
              "    .dataframe tbody tr th:only-of-type {\n",
              "        vertical-align: middle;\n",
              "    }\n",
              "\n",
              "    .dataframe tbody tr th {\n",
              "        vertical-align: top;\n",
              "    }\n",
              "\n",
              "    .dataframe thead th {\n",
              "        text-align: right;\n",
              "    }\n",
              "</style>\n",
              "<table border=\"1\" class=\"dataframe\">\n",
              "  <thead>\n",
              "    <tr style=\"text-align: right;\">\n",
              "      <th></th>\n",
              "      <th>Nombre</th>\n",
              "      <th>Edad</th>\n",
              "      <th>Sexo</th>\n",
              "      <th>Nota1</th>\n",
              "      <th>Nota2</th>\n",
              "      <th>Nota3</th>\n",
              "      <th>Aula</th>\n",
              "    </tr>\n",
              "  </thead>\n",
              "  <tbody>\n",
              "    <tr>\n",
              "      <th>0</th>\n",
              "      <td>Marco</td>\n",
              "      <td>14</td>\n",
              "      <td>Masculino</td>\n",
              "      <td>17.0</td>\n",
              "      <td>13.0</td>\n",
              "      <td>11.0</td>\n",
              "      <td>Roja</td>\n",
              "    </tr>\n",
              "    <tr>\n",
              "      <th>1</th>\n",
              "      <td>Alberto</td>\n",
              "      <td>16</td>\n",
              "      <td>Masculino</td>\n",
              "      <td>14.0</td>\n",
              "      <td>13.0</td>\n",
              "      <td>14.0</td>\n",
              "      <td>Roja</td>\n",
              "    </tr>\n",
              "    <tr>\n",
              "      <th>2</th>\n",
              "      <td>Roxana</td>\n",
              "      <td>15</td>\n",
              "      <td>Femenino</td>\n",
              "      <td>15.0</td>\n",
              "      <td>14.0</td>\n",
              "      <td>15.0</td>\n",
              "      <td>Roja</td>\n",
              "    </tr>\n",
              "  </tbody>\n",
              "</table>\n",
              "</div>"
            ],
            "text/plain": [
              "    Nombre  Edad       Sexo  Nota1  Nota2  Nota3  Aula\n",
              "0    Marco    14  Masculino   17.0   13.0   11.0  Roja\n",
              "1  Alberto    16  Masculino   14.0   13.0   14.0  Roja\n",
              "2   Roxana    15   Femenino   15.0   14.0   15.0  Roja"
            ]
          },
          "metadata": {
            "tags": []
          },
          "execution_count": 43
        }
      ]
    },
    {
      "cell_type": "code",
      "metadata": {
        "id": "bFh_OYG5wTyq"
      },
      "source": [
        "#Del aula roja, ¿cuántos alumnos son hombres?\n",
        "# filro lógico----Es decir : Es un filtro que cumple una función lógica|| & : Significa Sí y solo sí\n",
        "hombres_aula_roja = tabla_notas.loc[(tabla_notas['Sexo'] == 'Masculino')&(tabla_notas['Aula']== 'Roja')]"
      ],
      "execution_count": null,
      "outputs": []
    },
    {
      "cell_type": "code",
      "metadata": {
        "colab": {
          "base_uri": "https://localhost:8080/"
        },
        "id": "Ngx7UV6cyewA",
        "outputId": "9f576d22-8fcd-43f2-b987-7e14e74409bc"
      },
      "source": [
        "print(len(hombres_aula_roja))"
      ],
      "execution_count": null,
      "outputs": [
        {
          "output_type": "stream",
          "text": [
            "7\n"
          ],
          "name": "stdout"
        }
      ]
    },
    {
      "cell_type": "code",
      "metadata": {
        "colab": {
          "base_uri": "https://localhost:8080/"
        },
        "id": "bA3ZXqE6ygwl",
        "outputId": "fde97d5f-3bae-4bcf-f7e9-b13b37eaf6d8"
      },
      "source": [
        "len(aula_roja)-len(hombres_aula_roja)"
      ],
      "execution_count": null,
      "outputs": [
        {
          "output_type": "execute_result",
          "data": {
            "text/plain": [
              "6"
            ]
          },
          "metadata": {
            "tags": []
          },
          "execution_count": 47
        }
      ]
    },
    {
      "cell_type": "code",
      "metadata": {
        "id": "SqKNMFJXynUc"
      },
      "source": [
        "#filtro con | : or #o se cumple una condición o la otra  |||\n",
        "hombres_o_verde = tabla_notas.loc[(tabla_notas['Sexo'] == 'Masculino')|(tabla_notas['Aula']== 'Verde')]"
      ],
      "execution_count": null,
      "outputs": []
    },
    {
      "cell_type": "code",
      "metadata": {
        "colab": {
          "base_uri": "https://localhost:8080/",
          "height": 480
        },
        "id": "7pePFTXYzdZS",
        "outputId": "d36ffd08-601e-43ce-9857-9b2b3164f8ca"
      },
      "source": [
        "hombres_o_verde"
      ],
      "execution_count": null,
      "outputs": [
        {
          "output_type": "execute_result",
          "data": {
            "text/html": [
              "<div>\n",
              "<style scoped>\n",
              "    .dataframe tbody tr th:only-of-type {\n",
              "        vertical-align: middle;\n",
              "    }\n",
              "\n",
              "    .dataframe tbody tr th {\n",
              "        vertical-align: top;\n",
              "    }\n",
              "\n",
              "    .dataframe thead th {\n",
              "        text-align: right;\n",
              "    }\n",
              "</style>\n",
              "<table border=\"1\" class=\"dataframe\">\n",
              "  <thead>\n",
              "    <tr style=\"text-align: right;\">\n",
              "      <th></th>\n",
              "      <th>Nombre</th>\n",
              "      <th>Edad</th>\n",
              "      <th>Sexo</th>\n",
              "      <th>Nota1</th>\n",
              "      <th>Nota2</th>\n",
              "      <th>Nota3</th>\n",
              "      <th>Aula</th>\n",
              "    </tr>\n",
              "  </thead>\n",
              "  <tbody>\n",
              "    <tr>\n",
              "      <th>0</th>\n",
              "      <td>Marco</td>\n",
              "      <td>14</td>\n",
              "      <td>Masculino</td>\n",
              "      <td>17.0</td>\n",
              "      <td>13.000000</td>\n",
              "      <td>11.0</td>\n",
              "      <td>Roja</td>\n",
              "    </tr>\n",
              "    <tr>\n",
              "      <th>1</th>\n",
              "      <td>Alberto</td>\n",
              "      <td>16</td>\n",
              "      <td>Masculino</td>\n",
              "      <td>14.0</td>\n",
              "      <td>13.000000</td>\n",
              "      <td>14.0</td>\n",
              "      <td>Roja</td>\n",
              "    </tr>\n",
              "    <tr>\n",
              "      <th>3</th>\n",
              "      <td>Mario</td>\n",
              "      <td>15</td>\n",
              "      <td>Masculino</td>\n",
              "      <td>16.0</td>\n",
              "      <td>13.000000</td>\n",
              "      <td>11.0</td>\n",
              "      <td>Roja</td>\n",
              "    </tr>\n",
              "    <tr>\n",
              "      <th>4</th>\n",
              "      <td>Pedro</td>\n",
              "      <td>15</td>\n",
              "      <td>Masculino</td>\n",
              "      <td>11.0</td>\n",
              "      <td>13.500000</td>\n",
              "      <td>13.0</td>\n",
              "      <td>Verde</td>\n",
              "    </tr>\n",
              "    <tr>\n",
              "      <th>5</th>\n",
              "      <td>Juan Carlos</td>\n",
              "      <td>16</td>\n",
              "      <td>Masculino</td>\n",
              "      <td>14.8</td>\n",
              "      <td>13.600000</td>\n",
              "      <td>13.1</td>\n",
              "      <td>Verde</td>\n",
              "    </tr>\n",
              "    <tr>\n",
              "      <th>6</th>\n",
              "      <td>Julian</td>\n",
              "      <td>16</td>\n",
              "      <td>Masculino</td>\n",
              "      <td>14.6</td>\n",
              "      <td>11.000000</td>\n",
              "      <td>11.0</td>\n",
              "      <td>Roja</td>\n",
              "    </tr>\n",
              "    <tr>\n",
              "      <th>7</th>\n",
              "      <td>Jorge</td>\n",
              "      <td>15</td>\n",
              "      <td>Masculino</td>\n",
              "      <td>14.4</td>\n",
              "      <td>12.333333</td>\n",
              "      <td>13.3</td>\n",
              "      <td>Verde</td>\n",
              "    </tr>\n",
              "    <tr>\n",
              "      <th>8</th>\n",
              "      <td>Esteban</td>\n",
              "      <td>15</td>\n",
              "      <td>Masculino</td>\n",
              "      <td>10.0</td>\n",
              "      <td>13.083333</td>\n",
              "      <td>12.0</td>\n",
              "      <td>Verde</td>\n",
              "    </tr>\n",
              "    <tr>\n",
              "      <th>9</th>\n",
              "      <td>Juan Diego</td>\n",
              "      <td>16</td>\n",
              "      <td>Masculino</td>\n",
              "      <td>14.0</td>\n",
              "      <td>14.000000</td>\n",
              "      <td>13.5</td>\n",
              "      <td>Roja</td>\n",
              "    </tr>\n",
              "    <tr>\n",
              "      <th>10</th>\n",
              "      <td>Maricielo</td>\n",
              "      <td>14</td>\n",
              "      <td>Masculino</td>\n",
              "      <td>13.8</td>\n",
              "      <td>16.000000</td>\n",
              "      <td>16.0</td>\n",
              "      <td>Roja</td>\n",
              "    </tr>\n",
              "    <tr>\n",
              "      <th>12</th>\n",
              "      <td>Matías</td>\n",
              "      <td>16</td>\n",
              "      <td>Masculino</td>\n",
              "      <td>13.4</td>\n",
              "      <td>17.833333</td>\n",
              "      <td>15.0</td>\n",
              "      <td>Roja</td>\n",
              "    </tr>\n",
              "    <tr>\n",
              "      <th>14</th>\n",
              "      <td>Mateo</td>\n",
              "      <td>15</td>\n",
              "      <td>Masculino</td>\n",
              "      <td>19.0</td>\n",
              "      <td>18.833333</td>\n",
              "      <td>18.0</td>\n",
              "      <td>Verde</td>\n",
              "    </tr>\n",
              "    <tr>\n",
              "      <th>15</th>\n",
              "      <td>Mariana</td>\n",
              "      <td>15</td>\n",
              "      <td>Femenino</td>\n",
              "      <td>14.0</td>\n",
              "      <td>20.000000</td>\n",
              "      <td>11.0</td>\n",
              "      <td>Verde</td>\n",
              "    </tr>\n",
              "    <tr>\n",
              "      <th>16</th>\n",
              "      <td>Petronila</td>\n",
              "      <td>16</td>\n",
              "      <td>Femenino</td>\n",
              "      <td>12.6</td>\n",
              "      <td>16.000000</td>\n",
              "      <td>12.0</td>\n",
              "      <td>Verde</td>\n",
              "    </tr>\n",
              "  </tbody>\n",
              "</table>\n",
              "</div>"
            ],
            "text/plain": [
              "         Nombre  Edad       Sexo  Nota1      Nota2  Nota3   Aula\n",
              "0         Marco    14  Masculino   17.0  13.000000   11.0   Roja\n",
              "1       Alberto    16  Masculino   14.0  13.000000   14.0   Roja\n",
              "3         Mario    15  Masculino   16.0  13.000000   11.0   Roja\n",
              "4         Pedro    15  Masculino   11.0  13.500000   13.0  Verde\n",
              "5   Juan Carlos    16  Masculino   14.8  13.600000   13.1  Verde\n",
              "6        Julian    16  Masculino   14.6  11.000000   11.0   Roja\n",
              "7         Jorge    15  Masculino   14.4  12.333333   13.3  Verde\n",
              "8       Esteban    15  Masculino   10.0  13.083333   12.0  Verde\n",
              "9    Juan Diego    16  Masculino   14.0  14.000000   13.5   Roja\n",
              "10    Maricielo    14  Masculino   13.8  16.000000   16.0   Roja\n",
              "12       Matías    16  Masculino   13.4  17.833333   15.0   Roja\n",
              "14        Mateo    15  Masculino   19.0  18.833333   18.0  Verde\n",
              "15      Mariana    15   Femenino   14.0  20.000000   11.0  Verde\n",
              "16    Petronila    16   Femenino   12.6  16.000000   12.0  Verde"
            ]
          },
          "metadata": {
            "tags": []
          },
          "execution_count": 53
        }
      ]
    },
    {
      "cell_type": "code",
      "metadata": {
        "id": "9IYx37mLzfeO"
      },
      "source": [
        "estadisticas = tabla_notas.describe()"
      ],
      "execution_count": null,
      "outputs": []
    },
    {
      "cell_type": "code",
      "metadata": {
        "colab": {
          "base_uri": "https://localhost:8080/"
        },
        "id": "gYq7caLi1U2O",
        "outputId": "c401ecd8-333d-45e3-d214-6ae15cb74bb7"
      },
      "source": [
        "print(np.round(estadisticas,0))"
      ],
      "execution_count": null,
      "outputs": [
        {
          "output_type": "stream",
          "text": [
            "       Edad  Nota1  Nota2  Nota3\n",
            "count  20.0   20.0   20.0   20.0\n",
            "mean   15.0   14.0   15.0   14.0\n",
            "std     1.0    2.0    3.0    2.0\n",
            "min    14.0   10.0   11.0   11.0\n",
            "25%    15.0   13.0   13.0   12.0\n",
            "50%    15.0   14.0   14.0   14.0\n",
            "75%    16.0   15.0   16.0   15.0\n",
            "max    17.0   19.0   20.0   18.0\n"
          ],
          "name": "stdout"
        }
      ]
    },
    {
      "cell_type": "code",
      "metadata": {
        "id": "B3uEYsHk1ZQM"
      },
      "source": [
        "tabla_notas2 = tabla_notas.sort_values('Edad')"
      ],
      "execution_count": null,
      "outputs": []
    },
    {
      "cell_type": "code",
      "metadata": {
        "colab": {
          "base_uri": "https://localhost:8080/",
          "height": 203
        },
        "id": "DRT_jW0r28YZ",
        "outputId": "e65e8759-c61c-401f-cb53-287396982da7"
      },
      "source": [
        "tabla_notas2.head(5)"
      ],
      "execution_count": null,
      "outputs": [
        {
          "output_type": "execute_result",
          "data": {
            "text/html": [
              "<div>\n",
              "<style scoped>\n",
              "    .dataframe tbody tr th:only-of-type {\n",
              "        vertical-align: middle;\n",
              "    }\n",
              "\n",
              "    .dataframe tbody tr th {\n",
              "        vertical-align: top;\n",
              "    }\n",
              "\n",
              "    .dataframe thead th {\n",
              "        text-align: right;\n",
              "    }\n",
              "</style>\n",
              "<table border=\"1\" class=\"dataframe\">\n",
              "  <thead>\n",
              "    <tr style=\"text-align: right;\">\n",
              "      <th></th>\n",
              "      <th>Nombre</th>\n",
              "      <th>Edad</th>\n",
              "      <th>Sexo</th>\n",
              "      <th>Nota1</th>\n",
              "      <th>Nota2</th>\n",
              "      <th>Nota3</th>\n",
              "      <th>Aula</th>\n",
              "    </tr>\n",
              "  </thead>\n",
              "  <tbody>\n",
              "    <tr>\n",
              "      <th>0</th>\n",
              "      <td>Marco</td>\n",
              "      <td>14</td>\n",
              "      <td>Masculino</td>\n",
              "      <td>17.0</td>\n",
              "      <td>13.000000</td>\n",
              "      <td>11.0</td>\n",
              "      <td>Roja</td>\n",
              "    </tr>\n",
              "    <tr>\n",
              "      <th>10</th>\n",
              "      <td>Maricielo</td>\n",
              "      <td>14</td>\n",
              "      <td>Masculino</td>\n",
              "      <td>13.8</td>\n",
              "      <td>16.000000</td>\n",
              "      <td>16.0</td>\n",
              "      <td>Roja</td>\n",
              "    </tr>\n",
              "    <tr>\n",
              "      <th>18</th>\n",
              "      <td>Estefani</td>\n",
              "      <td>14</td>\n",
              "      <td>Femenino</td>\n",
              "      <td>17.0</td>\n",
              "      <td>14.000000</td>\n",
              "      <td>14.4</td>\n",
              "      <td>Roja</td>\n",
              "    </tr>\n",
              "    <tr>\n",
              "      <th>15</th>\n",
              "      <td>Mariana</td>\n",
              "      <td>15</td>\n",
              "      <td>Femenino</td>\n",
              "      <td>14.0</td>\n",
              "      <td>20.000000</td>\n",
              "      <td>11.0</td>\n",
              "      <td>Verde</td>\n",
              "    </tr>\n",
              "    <tr>\n",
              "      <th>14</th>\n",
              "      <td>Mateo</td>\n",
              "      <td>15</td>\n",
              "      <td>Masculino</td>\n",
              "      <td>19.0</td>\n",
              "      <td>18.833333</td>\n",
              "      <td>18.0</td>\n",
              "      <td>Verde</td>\n",
              "    </tr>\n",
              "  </tbody>\n",
              "</table>\n",
              "</div>"
            ],
            "text/plain": [
              "       Nombre  Edad       Sexo  Nota1      Nota2  Nota3   Aula\n",
              "0       Marco    14  Masculino   17.0  13.000000   11.0   Roja\n",
              "10  Maricielo    14  Masculino   13.8  16.000000   16.0   Roja\n",
              "18   Estefani    14   Femenino   17.0  14.000000   14.4   Roja\n",
              "15    Mariana    15   Femenino   14.0  20.000000   11.0  Verde\n",
              "14      Mateo    15  Masculino   19.0  18.833333   18.0  Verde"
            ]
          },
          "metadata": {
            "tags": []
          },
          "execution_count": 58
        }
      ]
    },
    {
      "cell_type": "code",
      "metadata": {
        "colab": {
          "base_uri": "https://localhost:8080/",
          "height": 665
        },
        "id": "8bI7QczK3Ilw",
        "outputId": "3609f56f-3d8d-4d85-ce35-a701858979fc"
      },
      "source": [
        "tabla_notas.sort_values('Nombre')"
      ],
      "execution_count": null,
      "outputs": [
        {
          "output_type": "execute_result",
          "data": {
            "text/html": [
              "<div>\n",
              "<style scoped>\n",
              "    .dataframe tbody tr th:only-of-type {\n",
              "        vertical-align: middle;\n",
              "    }\n",
              "\n",
              "    .dataframe tbody tr th {\n",
              "        vertical-align: top;\n",
              "    }\n",
              "\n",
              "    .dataframe thead th {\n",
              "        text-align: right;\n",
              "    }\n",
              "</style>\n",
              "<table border=\"1\" class=\"dataframe\">\n",
              "  <thead>\n",
              "    <tr style=\"text-align: right;\">\n",
              "      <th></th>\n",
              "      <th>Nombre</th>\n",
              "      <th>Edad</th>\n",
              "      <th>Sexo</th>\n",
              "      <th>Nota1</th>\n",
              "      <th>Nota2</th>\n",
              "      <th>Nota3</th>\n",
              "      <th>Aula</th>\n",
              "    </tr>\n",
              "  </thead>\n",
              "  <tbody>\n",
              "    <tr>\n",
              "      <th>1</th>\n",
              "      <td>Alberto</td>\n",
              "      <td>16</td>\n",
              "      <td>Masculino</td>\n",
              "      <td>14.0</td>\n",
              "      <td>13.000000</td>\n",
              "      <td>14.0</td>\n",
              "      <td>Roja</td>\n",
              "    </tr>\n",
              "    <tr>\n",
              "      <th>8</th>\n",
              "      <td>Esteban</td>\n",
              "      <td>15</td>\n",
              "      <td>Masculino</td>\n",
              "      <td>10.0</td>\n",
              "      <td>13.083333</td>\n",
              "      <td>12.0</td>\n",
              "      <td>Verde</td>\n",
              "    </tr>\n",
              "    <tr>\n",
              "      <th>18</th>\n",
              "      <td>Estefani</td>\n",
              "      <td>14</td>\n",
              "      <td>Femenino</td>\n",
              "      <td>17.0</td>\n",
              "      <td>14.000000</td>\n",
              "      <td>14.4</td>\n",
              "      <td>Roja</td>\n",
              "    </tr>\n",
              "    <tr>\n",
              "      <th>13</th>\n",
              "      <td>Fernanda</td>\n",
              "      <td>16</td>\n",
              "      <td>Femenino</td>\n",
              "      <td>11.0</td>\n",
              "      <td>15.000000</td>\n",
              "      <td>17.0</td>\n",
              "      <td>Roja</td>\n",
              "    </tr>\n",
              "    <tr>\n",
              "      <th>7</th>\n",
              "      <td>Jorge</td>\n",
              "      <td>15</td>\n",
              "      <td>Masculino</td>\n",
              "      <td>14.4</td>\n",
              "      <td>12.333333</td>\n",
              "      <td>13.3</td>\n",
              "      <td>Verde</td>\n",
              "    </tr>\n",
              "    <tr>\n",
              "      <th>5</th>\n",
              "      <td>Juan Carlos</td>\n",
              "      <td>16</td>\n",
              "      <td>Masculino</td>\n",
              "      <td>14.8</td>\n",
              "      <td>13.600000</td>\n",
              "      <td>13.1</td>\n",
              "      <td>Verde</td>\n",
              "    </tr>\n",
              "    <tr>\n",
              "      <th>9</th>\n",
              "      <td>Juan Diego</td>\n",
              "      <td>16</td>\n",
              "      <td>Masculino</td>\n",
              "      <td>14.0</td>\n",
              "      <td>14.000000</td>\n",
              "      <td>13.5</td>\n",
              "      <td>Roja</td>\n",
              "    </tr>\n",
              "    <tr>\n",
              "      <th>6</th>\n",
              "      <td>Julian</td>\n",
              "      <td>16</td>\n",
              "      <td>Masculino</td>\n",
              "      <td>14.6</td>\n",
              "      <td>11.000000</td>\n",
              "      <td>11.0</td>\n",
              "      <td>Roja</td>\n",
              "    </tr>\n",
              "    <tr>\n",
              "      <th>17</th>\n",
              "      <td>Juliana</td>\n",
              "      <td>17</td>\n",
              "      <td>Femenino</td>\n",
              "      <td>13.0</td>\n",
              "      <td>17.000000</td>\n",
              "      <td>18.0</td>\n",
              "      <td>Roja</td>\n",
              "    </tr>\n",
              "    <tr>\n",
              "      <th>19</th>\n",
              "      <td>Julissa</td>\n",
              "      <td>15</td>\n",
              "      <td>Femenino</td>\n",
              "      <td>19.0</td>\n",
              "      <td>19.000000</td>\n",
              "      <td>14.5</td>\n",
              "      <td>Roja</td>\n",
              "    </tr>\n",
              "    <tr>\n",
              "      <th>0</th>\n",
              "      <td>Marco</td>\n",
              "      <td>14</td>\n",
              "      <td>Masculino</td>\n",
              "      <td>17.0</td>\n",
              "      <td>13.000000</td>\n",
              "      <td>11.0</td>\n",
              "      <td>Roja</td>\n",
              "    </tr>\n",
              "    <tr>\n",
              "      <th>15</th>\n",
              "      <td>Mariana</td>\n",
              "      <td>15</td>\n",
              "      <td>Femenino</td>\n",
              "      <td>14.0</td>\n",
              "      <td>20.000000</td>\n",
              "      <td>11.0</td>\n",
              "      <td>Verde</td>\n",
              "    </tr>\n",
              "    <tr>\n",
              "      <th>10</th>\n",
              "      <td>Maricielo</td>\n",
              "      <td>14</td>\n",
              "      <td>Masculino</td>\n",
              "      <td>13.8</td>\n",
              "      <td>16.000000</td>\n",
              "      <td>16.0</td>\n",
              "      <td>Roja</td>\n",
              "    </tr>\n",
              "    <tr>\n",
              "      <th>3</th>\n",
              "      <td>Mario</td>\n",
              "      <td>15</td>\n",
              "      <td>Masculino</td>\n",
              "      <td>16.0</td>\n",
              "      <td>13.000000</td>\n",
              "      <td>11.0</td>\n",
              "      <td>Roja</td>\n",
              "    </tr>\n",
              "    <tr>\n",
              "      <th>11</th>\n",
              "      <td>María</td>\n",
              "      <td>17</td>\n",
              "      <td>Femenino</td>\n",
              "      <td>13.6</td>\n",
              "      <td>12.000000</td>\n",
              "      <td>13.7</td>\n",
              "      <td>Roja</td>\n",
              "    </tr>\n",
              "    <tr>\n",
              "      <th>14</th>\n",
              "      <td>Mateo</td>\n",
              "      <td>15</td>\n",
              "      <td>Masculino</td>\n",
              "      <td>19.0</td>\n",
              "      <td>18.833333</td>\n",
              "      <td>18.0</td>\n",
              "      <td>Verde</td>\n",
              "    </tr>\n",
              "    <tr>\n",
              "      <th>12</th>\n",
              "      <td>Matías</td>\n",
              "      <td>16</td>\n",
              "      <td>Masculino</td>\n",
              "      <td>13.4</td>\n",
              "      <td>17.833333</td>\n",
              "      <td>15.0</td>\n",
              "      <td>Roja</td>\n",
              "    </tr>\n",
              "    <tr>\n",
              "      <th>4</th>\n",
              "      <td>Pedro</td>\n",
              "      <td>15</td>\n",
              "      <td>Masculino</td>\n",
              "      <td>11.0</td>\n",
              "      <td>13.500000</td>\n",
              "      <td>13.0</td>\n",
              "      <td>Verde</td>\n",
              "    </tr>\n",
              "    <tr>\n",
              "      <th>16</th>\n",
              "      <td>Petronila</td>\n",
              "      <td>16</td>\n",
              "      <td>Femenino</td>\n",
              "      <td>12.6</td>\n",
              "      <td>16.000000</td>\n",
              "      <td>12.0</td>\n",
              "      <td>Verde</td>\n",
              "    </tr>\n",
              "    <tr>\n",
              "      <th>2</th>\n",
              "      <td>Roxana</td>\n",
              "      <td>15</td>\n",
              "      <td>Femenino</td>\n",
              "      <td>15.0</td>\n",
              "      <td>14.000000</td>\n",
              "      <td>15.0</td>\n",
              "      <td>Roja</td>\n",
              "    </tr>\n",
              "  </tbody>\n",
              "</table>\n",
              "</div>"
            ],
            "text/plain": [
              "         Nombre  Edad       Sexo  Nota1      Nota2  Nota3   Aula\n",
              "1       Alberto    16  Masculino   14.0  13.000000   14.0   Roja\n",
              "8       Esteban    15  Masculino   10.0  13.083333   12.0  Verde\n",
              "18     Estefani    14   Femenino   17.0  14.000000   14.4   Roja\n",
              "13     Fernanda    16   Femenino   11.0  15.000000   17.0   Roja\n",
              "7         Jorge    15  Masculino   14.4  12.333333   13.3  Verde\n",
              "5   Juan Carlos    16  Masculino   14.8  13.600000   13.1  Verde\n",
              "9    Juan Diego    16  Masculino   14.0  14.000000   13.5   Roja\n",
              "6        Julian    16  Masculino   14.6  11.000000   11.0   Roja\n",
              "17      Juliana    17   Femenino   13.0  17.000000   18.0   Roja\n",
              "19      Julissa    15   Femenino   19.0  19.000000   14.5   Roja\n",
              "0         Marco    14  Masculino   17.0  13.000000   11.0   Roja\n",
              "15      Mariana    15   Femenino   14.0  20.000000   11.0  Verde\n",
              "10    Maricielo    14  Masculino   13.8  16.000000   16.0   Roja\n",
              "3         Mario    15  Masculino   16.0  13.000000   11.0   Roja\n",
              "11        María    17   Femenino   13.6  12.000000   13.7   Roja\n",
              "14        Mateo    15  Masculino   19.0  18.833333   18.0  Verde\n",
              "12       Matías    16  Masculino   13.4  17.833333   15.0   Roja\n",
              "4         Pedro    15  Masculino   11.0  13.500000   13.0  Verde\n",
              "16    Petronila    16   Femenino   12.6  16.000000   12.0  Verde\n",
              "2        Roxana    15   Femenino   15.0  14.000000   15.0   Roja"
            ]
          },
          "metadata": {
            "tags": []
          },
          "execution_count": 62
        }
      ]
    },
    {
      "cell_type": "code",
      "metadata": {
        "colab": {
          "base_uri": "https://localhost:8080/",
          "height": 665
        },
        "id": "O2qh2BxW3RAl",
        "outputId": "633b17dc-0b43-4d62-e309-260aa493612b"
      },
      "source": [
        "tabla_notas.sort_values('Edad',ascending= False)"
      ],
      "execution_count": null,
      "outputs": [
        {
          "output_type": "execute_result",
          "data": {
            "text/html": [
              "<div>\n",
              "<style scoped>\n",
              "    .dataframe tbody tr th:only-of-type {\n",
              "        vertical-align: middle;\n",
              "    }\n",
              "\n",
              "    .dataframe tbody tr th {\n",
              "        vertical-align: top;\n",
              "    }\n",
              "\n",
              "    .dataframe thead th {\n",
              "        text-align: right;\n",
              "    }\n",
              "</style>\n",
              "<table border=\"1\" class=\"dataframe\">\n",
              "  <thead>\n",
              "    <tr style=\"text-align: right;\">\n",
              "      <th></th>\n",
              "      <th>Nombre</th>\n",
              "      <th>Edad</th>\n",
              "      <th>Sexo</th>\n",
              "      <th>Nota1</th>\n",
              "      <th>Nota2</th>\n",
              "      <th>Nota3</th>\n",
              "      <th>Aula</th>\n",
              "    </tr>\n",
              "  </thead>\n",
              "  <tbody>\n",
              "    <tr>\n",
              "      <th>17</th>\n",
              "      <td>Juliana</td>\n",
              "      <td>17</td>\n",
              "      <td>Femenino</td>\n",
              "      <td>13.0</td>\n",
              "      <td>17.000000</td>\n",
              "      <td>18.0</td>\n",
              "      <td>Roja</td>\n",
              "    </tr>\n",
              "    <tr>\n",
              "      <th>11</th>\n",
              "      <td>María</td>\n",
              "      <td>17</td>\n",
              "      <td>Femenino</td>\n",
              "      <td>13.6</td>\n",
              "      <td>12.000000</td>\n",
              "      <td>13.7</td>\n",
              "      <td>Roja</td>\n",
              "    </tr>\n",
              "    <tr>\n",
              "      <th>1</th>\n",
              "      <td>Alberto</td>\n",
              "      <td>16</td>\n",
              "      <td>Masculino</td>\n",
              "      <td>14.0</td>\n",
              "      <td>13.000000</td>\n",
              "      <td>14.0</td>\n",
              "      <td>Roja</td>\n",
              "    </tr>\n",
              "    <tr>\n",
              "      <th>16</th>\n",
              "      <td>Petronila</td>\n",
              "      <td>16</td>\n",
              "      <td>Femenino</td>\n",
              "      <td>12.6</td>\n",
              "      <td>16.000000</td>\n",
              "      <td>12.0</td>\n",
              "      <td>Verde</td>\n",
              "    </tr>\n",
              "    <tr>\n",
              "      <th>13</th>\n",
              "      <td>Fernanda</td>\n",
              "      <td>16</td>\n",
              "      <td>Femenino</td>\n",
              "      <td>11.0</td>\n",
              "      <td>15.000000</td>\n",
              "      <td>17.0</td>\n",
              "      <td>Roja</td>\n",
              "    </tr>\n",
              "    <tr>\n",
              "      <th>12</th>\n",
              "      <td>Matías</td>\n",
              "      <td>16</td>\n",
              "      <td>Masculino</td>\n",
              "      <td>13.4</td>\n",
              "      <td>17.833333</td>\n",
              "      <td>15.0</td>\n",
              "      <td>Roja</td>\n",
              "    </tr>\n",
              "    <tr>\n",
              "      <th>9</th>\n",
              "      <td>Juan Diego</td>\n",
              "      <td>16</td>\n",
              "      <td>Masculino</td>\n",
              "      <td>14.0</td>\n",
              "      <td>14.000000</td>\n",
              "      <td>13.5</td>\n",
              "      <td>Roja</td>\n",
              "    </tr>\n",
              "    <tr>\n",
              "      <th>6</th>\n",
              "      <td>Julian</td>\n",
              "      <td>16</td>\n",
              "      <td>Masculino</td>\n",
              "      <td>14.6</td>\n",
              "      <td>11.000000</td>\n",
              "      <td>11.0</td>\n",
              "      <td>Roja</td>\n",
              "    </tr>\n",
              "    <tr>\n",
              "      <th>5</th>\n",
              "      <td>Juan Carlos</td>\n",
              "      <td>16</td>\n",
              "      <td>Masculino</td>\n",
              "      <td>14.8</td>\n",
              "      <td>13.600000</td>\n",
              "      <td>13.1</td>\n",
              "      <td>Verde</td>\n",
              "    </tr>\n",
              "    <tr>\n",
              "      <th>7</th>\n",
              "      <td>Jorge</td>\n",
              "      <td>15</td>\n",
              "      <td>Masculino</td>\n",
              "      <td>14.4</td>\n",
              "      <td>12.333333</td>\n",
              "      <td>13.3</td>\n",
              "      <td>Verde</td>\n",
              "    </tr>\n",
              "    <tr>\n",
              "      <th>8</th>\n",
              "      <td>Esteban</td>\n",
              "      <td>15</td>\n",
              "      <td>Masculino</td>\n",
              "      <td>10.0</td>\n",
              "      <td>13.083333</td>\n",
              "      <td>12.0</td>\n",
              "      <td>Verde</td>\n",
              "    </tr>\n",
              "    <tr>\n",
              "      <th>4</th>\n",
              "      <td>Pedro</td>\n",
              "      <td>15</td>\n",
              "      <td>Masculino</td>\n",
              "      <td>11.0</td>\n",
              "      <td>13.500000</td>\n",
              "      <td>13.0</td>\n",
              "      <td>Verde</td>\n",
              "    </tr>\n",
              "    <tr>\n",
              "      <th>3</th>\n",
              "      <td>Mario</td>\n",
              "      <td>15</td>\n",
              "      <td>Masculino</td>\n",
              "      <td>16.0</td>\n",
              "      <td>13.000000</td>\n",
              "      <td>11.0</td>\n",
              "      <td>Roja</td>\n",
              "    </tr>\n",
              "    <tr>\n",
              "      <th>14</th>\n",
              "      <td>Mateo</td>\n",
              "      <td>15</td>\n",
              "      <td>Masculino</td>\n",
              "      <td>19.0</td>\n",
              "      <td>18.833333</td>\n",
              "      <td>18.0</td>\n",
              "      <td>Verde</td>\n",
              "    </tr>\n",
              "    <tr>\n",
              "      <th>15</th>\n",
              "      <td>Mariana</td>\n",
              "      <td>15</td>\n",
              "      <td>Femenino</td>\n",
              "      <td>14.0</td>\n",
              "      <td>20.000000</td>\n",
              "      <td>11.0</td>\n",
              "      <td>Verde</td>\n",
              "    </tr>\n",
              "    <tr>\n",
              "      <th>2</th>\n",
              "      <td>Roxana</td>\n",
              "      <td>15</td>\n",
              "      <td>Femenino</td>\n",
              "      <td>15.0</td>\n",
              "      <td>14.000000</td>\n",
              "      <td>15.0</td>\n",
              "      <td>Roja</td>\n",
              "    </tr>\n",
              "    <tr>\n",
              "      <th>19</th>\n",
              "      <td>Julissa</td>\n",
              "      <td>15</td>\n",
              "      <td>Femenino</td>\n",
              "      <td>19.0</td>\n",
              "      <td>19.000000</td>\n",
              "      <td>14.5</td>\n",
              "      <td>Roja</td>\n",
              "    </tr>\n",
              "    <tr>\n",
              "      <th>18</th>\n",
              "      <td>Estefani</td>\n",
              "      <td>14</td>\n",
              "      <td>Femenino</td>\n",
              "      <td>17.0</td>\n",
              "      <td>14.000000</td>\n",
              "      <td>14.4</td>\n",
              "      <td>Roja</td>\n",
              "    </tr>\n",
              "    <tr>\n",
              "      <th>0</th>\n",
              "      <td>Marco</td>\n",
              "      <td>14</td>\n",
              "      <td>Masculino</td>\n",
              "      <td>17.0</td>\n",
              "      <td>13.000000</td>\n",
              "      <td>11.0</td>\n",
              "      <td>Roja</td>\n",
              "    </tr>\n",
              "    <tr>\n",
              "      <th>10</th>\n",
              "      <td>Maricielo</td>\n",
              "      <td>14</td>\n",
              "      <td>Masculino</td>\n",
              "      <td>13.8</td>\n",
              "      <td>16.000000</td>\n",
              "      <td>16.0</td>\n",
              "      <td>Roja</td>\n",
              "    </tr>\n",
              "  </tbody>\n",
              "</table>\n",
              "</div>"
            ],
            "text/plain": [
              "         Nombre  Edad       Sexo  Nota1      Nota2  Nota3   Aula\n",
              "17      Juliana    17   Femenino   13.0  17.000000   18.0   Roja\n",
              "11        María    17   Femenino   13.6  12.000000   13.7   Roja\n",
              "1       Alberto    16  Masculino   14.0  13.000000   14.0   Roja\n",
              "16    Petronila    16   Femenino   12.6  16.000000   12.0  Verde\n",
              "13     Fernanda    16   Femenino   11.0  15.000000   17.0   Roja\n",
              "12       Matías    16  Masculino   13.4  17.833333   15.0   Roja\n",
              "9    Juan Diego    16  Masculino   14.0  14.000000   13.5   Roja\n",
              "6        Julian    16  Masculino   14.6  11.000000   11.0   Roja\n",
              "5   Juan Carlos    16  Masculino   14.8  13.600000   13.1  Verde\n",
              "7         Jorge    15  Masculino   14.4  12.333333   13.3  Verde\n",
              "8       Esteban    15  Masculino   10.0  13.083333   12.0  Verde\n",
              "4         Pedro    15  Masculino   11.0  13.500000   13.0  Verde\n",
              "3         Mario    15  Masculino   16.0  13.000000   11.0   Roja\n",
              "14        Mateo    15  Masculino   19.0  18.833333   18.0  Verde\n",
              "15      Mariana    15   Femenino   14.0  20.000000   11.0  Verde\n",
              "2        Roxana    15   Femenino   15.0  14.000000   15.0   Roja\n",
              "19      Julissa    15   Femenino   19.0  19.000000   14.5   Roja\n",
              "18     Estefani    14   Femenino   17.0  14.000000   14.4   Roja\n",
              "0         Marco    14  Masculino   17.0  13.000000   11.0   Roja\n",
              "10    Maricielo    14  Masculino   13.8  16.000000   16.0   Roja"
            ]
          },
          "metadata": {
            "tags": []
          },
          "execution_count": 63
        }
      ]
    },
    {
      "cell_type": "code",
      "metadata": {
        "id": "BuKXPvAa3uY9"
      },
      "source": [
        "tabla_notas['Nota2'] = np.round(tabla_notas['Nota2'],0)"
      ],
      "execution_count": null,
      "outputs": []
    },
    {
      "cell_type": "code",
      "metadata": {
        "colab": {
          "base_uri": "https://localhost:8080/",
          "height": 203
        },
        "id": "nmxy1Q7K4Iho",
        "outputId": "697b1eb6-c7a7-41c4-ad08-8510416da3f0"
      },
      "source": [
        "tabla_notas.head(5)"
      ],
      "execution_count": null,
      "outputs": [
        {
          "output_type": "execute_result",
          "data": {
            "text/html": [
              "<div>\n",
              "<style scoped>\n",
              "    .dataframe tbody tr th:only-of-type {\n",
              "        vertical-align: middle;\n",
              "    }\n",
              "\n",
              "    .dataframe tbody tr th {\n",
              "        vertical-align: top;\n",
              "    }\n",
              "\n",
              "    .dataframe thead th {\n",
              "        text-align: right;\n",
              "    }\n",
              "</style>\n",
              "<table border=\"1\" class=\"dataframe\">\n",
              "  <thead>\n",
              "    <tr style=\"text-align: right;\">\n",
              "      <th></th>\n",
              "      <th>Nombre</th>\n",
              "      <th>Edad</th>\n",
              "      <th>Sexo</th>\n",
              "      <th>Nota1</th>\n",
              "      <th>Nota2</th>\n",
              "      <th>Nota3</th>\n",
              "      <th>Aula</th>\n",
              "    </tr>\n",
              "  </thead>\n",
              "  <tbody>\n",
              "    <tr>\n",
              "      <th>0</th>\n",
              "      <td>Marco</td>\n",
              "      <td>14</td>\n",
              "      <td>Masculino</td>\n",
              "      <td>17.0</td>\n",
              "      <td>13.0</td>\n",
              "      <td>11.0</td>\n",
              "      <td>Roja</td>\n",
              "    </tr>\n",
              "    <tr>\n",
              "      <th>1</th>\n",
              "      <td>Alberto</td>\n",
              "      <td>16</td>\n",
              "      <td>Masculino</td>\n",
              "      <td>14.0</td>\n",
              "      <td>13.0</td>\n",
              "      <td>14.0</td>\n",
              "      <td>Roja</td>\n",
              "    </tr>\n",
              "    <tr>\n",
              "      <th>2</th>\n",
              "      <td>Roxana</td>\n",
              "      <td>15</td>\n",
              "      <td>Femenino</td>\n",
              "      <td>15.0</td>\n",
              "      <td>14.0</td>\n",
              "      <td>15.0</td>\n",
              "      <td>Roja</td>\n",
              "    </tr>\n",
              "    <tr>\n",
              "      <th>3</th>\n",
              "      <td>Mario</td>\n",
              "      <td>15</td>\n",
              "      <td>Masculino</td>\n",
              "      <td>16.0</td>\n",
              "      <td>13.0</td>\n",
              "      <td>11.0</td>\n",
              "      <td>Roja</td>\n",
              "    </tr>\n",
              "    <tr>\n",
              "      <th>4</th>\n",
              "      <td>Pedro</td>\n",
              "      <td>15</td>\n",
              "      <td>Masculino</td>\n",
              "      <td>11.0</td>\n",
              "      <td>14.0</td>\n",
              "      <td>13.0</td>\n",
              "      <td>Verde</td>\n",
              "    </tr>\n",
              "  </tbody>\n",
              "</table>\n",
              "</div>"
            ],
            "text/plain": [
              "    Nombre  Edad       Sexo  Nota1  Nota2  Nota3   Aula\n",
              "0    Marco    14  Masculino   17.0   13.0   11.0   Roja\n",
              "1  Alberto    16  Masculino   14.0   13.0   14.0   Roja\n",
              "2   Roxana    15   Femenino   15.0   14.0   15.0   Roja\n",
              "3    Mario    15  Masculino   16.0   13.0   11.0   Roja\n",
              "4    Pedro    15  Masculino   11.0   14.0   13.0  Verde"
            ]
          },
          "metadata": {
            "tags": []
          },
          "execution_count": 68
        }
      ]
    },
    {
      "cell_type": "code",
      "metadata": {
        "id": "0fb6JraL4Y-1"
      },
      "source": [
        "tabla_notas['Promedio'] = (tabla_notas['Nota1']+tabla_notas['Nota2']+tabla_notas['Nota3'])/3"
      ],
      "execution_count": null,
      "outputs": []
    },
    {
      "cell_type": "code",
      "metadata": {
        "colab": {
          "base_uri": "https://localhost:8080/",
          "height": 203
        },
        "id": "HV52aJ-15apy",
        "outputId": "ef21c951-10fa-4a21-efe7-133038b7e6bb"
      },
      "source": [
        "tabla_notas.head(5)"
      ],
      "execution_count": null,
      "outputs": [
        {
          "output_type": "execute_result",
          "data": {
            "text/html": [
              "<div>\n",
              "<style scoped>\n",
              "    .dataframe tbody tr th:only-of-type {\n",
              "        vertical-align: middle;\n",
              "    }\n",
              "\n",
              "    .dataframe tbody tr th {\n",
              "        vertical-align: top;\n",
              "    }\n",
              "\n",
              "    .dataframe thead th {\n",
              "        text-align: right;\n",
              "    }\n",
              "</style>\n",
              "<table border=\"1\" class=\"dataframe\">\n",
              "  <thead>\n",
              "    <tr style=\"text-align: right;\">\n",
              "      <th></th>\n",
              "      <th>Nombre</th>\n",
              "      <th>Edad</th>\n",
              "      <th>Sexo</th>\n",
              "      <th>Nota1</th>\n",
              "      <th>Nota2</th>\n",
              "      <th>Nota3</th>\n",
              "      <th>Aula</th>\n",
              "      <th>Promedio</th>\n",
              "    </tr>\n",
              "  </thead>\n",
              "  <tbody>\n",
              "    <tr>\n",
              "      <th>0</th>\n",
              "      <td>Marco</td>\n",
              "      <td>14</td>\n",
              "      <td>Masculino</td>\n",
              "      <td>17.0</td>\n",
              "      <td>13.0</td>\n",
              "      <td>11.0</td>\n",
              "      <td>Roja</td>\n",
              "      <td>13.666667</td>\n",
              "    </tr>\n",
              "    <tr>\n",
              "      <th>1</th>\n",
              "      <td>Alberto</td>\n",
              "      <td>16</td>\n",
              "      <td>Masculino</td>\n",
              "      <td>14.0</td>\n",
              "      <td>13.0</td>\n",
              "      <td>14.0</td>\n",
              "      <td>Roja</td>\n",
              "      <td>13.666667</td>\n",
              "    </tr>\n",
              "    <tr>\n",
              "      <th>2</th>\n",
              "      <td>Roxana</td>\n",
              "      <td>15</td>\n",
              "      <td>Femenino</td>\n",
              "      <td>15.0</td>\n",
              "      <td>14.0</td>\n",
              "      <td>15.0</td>\n",
              "      <td>Roja</td>\n",
              "      <td>14.666667</td>\n",
              "    </tr>\n",
              "    <tr>\n",
              "      <th>3</th>\n",
              "      <td>Mario</td>\n",
              "      <td>15</td>\n",
              "      <td>Masculino</td>\n",
              "      <td>16.0</td>\n",
              "      <td>13.0</td>\n",
              "      <td>11.0</td>\n",
              "      <td>Roja</td>\n",
              "      <td>13.333333</td>\n",
              "    </tr>\n",
              "    <tr>\n",
              "      <th>4</th>\n",
              "      <td>Pedro</td>\n",
              "      <td>15</td>\n",
              "      <td>Masculino</td>\n",
              "      <td>11.0</td>\n",
              "      <td>14.0</td>\n",
              "      <td>13.0</td>\n",
              "      <td>Verde</td>\n",
              "      <td>12.666667</td>\n",
              "    </tr>\n",
              "  </tbody>\n",
              "</table>\n",
              "</div>"
            ],
            "text/plain": [
              "    Nombre  Edad       Sexo  Nota1  Nota2  Nota3   Aula   Promedio\n",
              "0    Marco    14  Masculino   17.0   13.0   11.0   Roja  13.666667\n",
              "1  Alberto    16  Masculino   14.0   13.0   14.0   Roja  13.666667\n",
              "2   Roxana    15   Femenino   15.0   14.0   15.0   Roja  14.666667\n",
              "3    Mario    15  Masculino   16.0   13.0   11.0   Roja  13.333333\n",
              "4    Pedro    15  Masculino   11.0   14.0   13.0  Verde  12.666667"
            ]
          },
          "metadata": {
            "tags": []
          },
          "execution_count": 72
        }
      ]
    },
    {
      "cell_type": "code",
      "metadata": {
        "id": "EtCJn4Y15cm_"
      },
      "source": [
        "tabla_notas['Promedio'] = np.round(tabla_notas['Promedio'],2)"
      ],
      "execution_count": null,
      "outputs": []
    },
    {
      "cell_type": "code",
      "metadata": {
        "colab": {
          "base_uri": "https://localhost:8080/",
          "height": 223
        },
        "id": "eVHXX5CY5fR5",
        "outputId": "c3d864c7-a529-4d6b-8e57-1c86002d1130"
      },
      "source": [
        "tabla_notas.head(5)"
      ],
      "execution_count": null,
      "outputs": [
        {
          "output_type": "execute_result",
          "data": {
            "text/html": [
              "<div>\n",
              "<style scoped>\n",
              "    .dataframe tbody tr th:only-of-type {\n",
              "        vertical-align: middle;\n",
              "    }\n",
              "\n",
              "    .dataframe tbody tr th {\n",
              "        vertical-align: top;\n",
              "    }\n",
              "\n",
              "    .dataframe thead th {\n",
              "        text-align: right;\n",
              "    }\n",
              "</style>\n",
              "<table border=\"1\" class=\"dataframe\">\n",
              "  <thead>\n",
              "    <tr style=\"text-align: right;\">\n",
              "      <th></th>\n",
              "      <th>Nombre</th>\n",
              "      <th>Edad</th>\n",
              "      <th>Sexo</th>\n",
              "      <th>Nota1</th>\n",
              "      <th>Nota2</th>\n",
              "      <th>Nota3</th>\n",
              "      <th>Aula</th>\n",
              "      <th>Promedio</th>\n",
              "      <th>Promedio</th>\n",
              "      <th>Promedio</th>\n",
              "      <th>Promedio</th>\n",
              "    </tr>\n",
              "  </thead>\n",
              "  <tbody>\n",
              "    <tr>\n",
              "      <th>0</th>\n",
              "      <td>Marco</td>\n",
              "      <td>14</td>\n",
              "      <td>Masculino</td>\n",
              "      <td>17.0</td>\n",
              "      <td>13.0</td>\n",
              "      <td>11.0</td>\n",
              "      <td>Roja</td>\n",
              "      <td>13.67</td>\n",
              "      <td>13.67</td>\n",
              "      <td>13.67</td>\n",
              "      <td>13.67</td>\n",
              "    </tr>\n",
              "    <tr>\n",
              "      <th>1</th>\n",
              "      <td>Alberto</td>\n",
              "      <td>16</td>\n",
              "      <td>Masculino</td>\n",
              "      <td>14.0</td>\n",
              "      <td>13.0</td>\n",
              "      <td>14.0</td>\n",
              "      <td>Roja</td>\n",
              "      <td>13.67</td>\n",
              "      <td>13.67</td>\n",
              "      <td>13.67</td>\n",
              "      <td>13.67</td>\n",
              "    </tr>\n",
              "    <tr>\n",
              "      <th>2</th>\n",
              "      <td>Roxana</td>\n",
              "      <td>15</td>\n",
              "      <td>Femenino</td>\n",
              "      <td>15.0</td>\n",
              "      <td>14.0</td>\n",
              "      <td>15.0</td>\n",
              "      <td>Roja</td>\n",
              "      <td>14.67</td>\n",
              "      <td>14.67</td>\n",
              "      <td>14.67</td>\n",
              "      <td>14.67</td>\n",
              "    </tr>\n",
              "    <tr>\n",
              "      <th>3</th>\n",
              "      <td>Mario</td>\n",
              "      <td>15</td>\n",
              "      <td>Masculino</td>\n",
              "      <td>16.0</td>\n",
              "      <td>13.0</td>\n",
              "      <td>11.0</td>\n",
              "      <td>Roja</td>\n",
              "      <td>13.33</td>\n",
              "      <td>13.33</td>\n",
              "      <td>13.33</td>\n",
              "      <td>13.33</td>\n",
              "    </tr>\n",
              "    <tr>\n",
              "      <th>4</th>\n",
              "      <td>Pedro</td>\n",
              "      <td>15</td>\n",
              "      <td>Masculino</td>\n",
              "      <td>11.0</td>\n",
              "      <td>14.0</td>\n",
              "      <td>13.0</td>\n",
              "      <td>Verde</td>\n",
              "      <td>12.67</td>\n",
              "      <td>12.67</td>\n",
              "      <td>12.67</td>\n",
              "      <td>12.67</td>\n",
              "    </tr>\n",
              "  </tbody>\n",
              "</table>\n",
              "</div>"
            ],
            "text/plain": [
              "    Nombre  Edad       Sexo  Nota1  ...  Promedio  Promedio  Promedio  Promedio\n",
              "0    Marco    14  Masculino   17.0  ...     13.67     13.67     13.67     13.67\n",
              "1  Alberto    16  Masculino   14.0  ...     13.67     13.67     13.67     13.67\n",
              "2   Roxana    15   Femenino   15.0  ...     14.67     14.67     14.67     14.67\n",
              "3    Mario    15  Masculino   16.0  ...     13.33     13.33     13.33     13.33\n",
              "4    Pedro    15  Masculino   11.0  ...     12.67     12.67     12.67     12.67\n",
              "\n",
              "[5 rows x 11 columns]"
            ]
          },
          "metadata": {
            "tags": []
          },
          "execution_count": 82
        }
      ]
    },
    {
      "cell_type": "code",
      "metadata": {
        "id": "MPP2d4u65kfJ"
      },
      "source": [
        "columnas = list(tabla_notas.columns.values)\n",
        "tabla_notas2 = tabla_notas[columnas[0:6]+[columnas[-1]]+columnas[6:7]]"
      ],
      "execution_count": null,
      "outputs": []
    },
    {
      "cell_type": "code",
      "metadata": {
        "id": "Iokq2H-z7Ziy"
      },
      "source": [
        "tabla_notas = tabla_notas.drop(columns = ['Promedio'])"
      ],
      "execution_count": null,
      "outputs": []
    },
    {
      "cell_type": "code",
      "metadata": {
        "colab": {
          "base_uri": "https://localhost:8080/",
          "height": 141
        },
        "id": "VGowrmsS7gVS",
        "outputId": "163044d6-35f2-48e7-86b6-b4b856e20517"
      },
      "source": [
        "tabla_notas.head(3)"
      ],
      "execution_count": null,
      "outputs": [
        {
          "output_type": "execute_result",
          "data": {
            "text/html": [
              "<div>\n",
              "<style scoped>\n",
              "    .dataframe tbody tr th:only-of-type {\n",
              "        vertical-align: middle;\n",
              "    }\n",
              "\n",
              "    .dataframe tbody tr th {\n",
              "        vertical-align: top;\n",
              "    }\n",
              "\n",
              "    .dataframe thead th {\n",
              "        text-align: right;\n",
              "    }\n",
              "</style>\n",
              "<table border=\"1\" class=\"dataframe\">\n",
              "  <thead>\n",
              "    <tr style=\"text-align: right;\">\n",
              "      <th></th>\n",
              "      <th>Nombre</th>\n",
              "      <th>Edad</th>\n",
              "      <th>Sexo</th>\n",
              "      <th>Nota1</th>\n",
              "      <th>Nota2</th>\n",
              "      <th>Nota3</th>\n",
              "      <th>Aula</th>\n",
              "    </tr>\n",
              "  </thead>\n",
              "  <tbody>\n",
              "    <tr>\n",
              "      <th>0</th>\n",
              "      <td>Marco</td>\n",
              "      <td>14</td>\n",
              "      <td>Masculino</td>\n",
              "      <td>17.0</td>\n",
              "      <td>13.0</td>\n",
              "      <td>11.0</td>\n",
              "      <td>Roja</td>\n",
              "    </tr>\n",
              "    <tr>\n",
              "      <th>1</th>\n",
              "      <td>Alberto</td>\n",
              "      <td>16</td>\n",
              "      <td>Masculino</td>\n",
              "      <td>14.0</td>\n",
              "      <td>13.0</td>\n",
              "      <td>14.0</td>\n",
              "      <td>Roja</td>\n",
              "    </tr>\n",
              "    <tr>\n",
              "      <th>2</th>\n",
              "      <td>Roxana</td>\n",
              "      <td>15</td>\n",
              "      <td>Femenino</td>\n",
              "      <td>15.0</td>\n",
              "      <td>14.0</td>\n",
              "      <td>15.0</td>\n",
              "      <td>Roja</td>\n",
              "    </tr>\n",
              "  </tbody>\n",
              "</table>\n",
              "</div>"
            ],
            "text/plain": [
              "    Nombre  Edad       Sexo  Nota1  Nota2  Nota3  Aula\n",
              "0    Marco    14  Masculino   17.0   13.0   11.0  Roja\n",
              "1  Alberto    16  Masculino   14.0   13.0   14.0  Roja\n",
              "2   Roxana    15   Femenino   15.0   14.0   15.0  Roja"
            ]
          },
          "metadata": {
            "tags": []
          },
          "execution_count": 86
        }
      ]
    },
    {
      "cell_type": "code",
      "metadata": {
        "id": "8WmLuiAY8Hv8"
      },
      "source": [
        "tabla_notas['Promedio'] = (tabla_notas['Nota1']+tabla_notas['Nota2']+tabla_notas['Nota3'])/3"
      ],
      "execution_count": null,
      "outputs": []
    },
    {
      "cell_type": "code",
      "metadata": {
        "id": "ZC2pYIda8Ofn"
      },
      "source": [
        "tabla_notas['Promedio'] = np.round(tabla_notas['Promedio'],2)"
      ],
      "execution_count": null,
      "outputs": []
    },
    {
      "cell_type": "code",
      "metadata": {
        "colab": {
          "base_uri": "https://localhost:8080/",
          "height": 141
        },
        "id": "_aGS8gCl8UQP",
        "outputId": "96e4c318-3ee2-4a32-f9a1-1f101b611495"
      },
      "source": [
        "tabla_notas.head(3)"
      ],
      "execution_count": null,
      "outputs": [
        {
          "output_type": "execute_result",
          "data": {
            "text/html": [
              "<div>\n",
              "<style scoped>\n",
              "    .dataframe tbody tr th:only-of-type {\n",
              "        vertical-align: middle;\n",
              "    }\n",
              "\n",
              "    .dataframe tbody tr th {\n",
              "        vertical-align: top;\n",
              "    }\n",
              "\n",
              "    .dataframe thead th {\n",
              "        text-align: right;\n",
              "    }\n",
              "</style>\n",
              "<table border=\"1\" class=\"dataframe\">\n",
              "  <thead>\n",
              "    <tr style=\"text-align: right;\">\n",
              "      <th></th>\n",
              "      <th>Nombre</th>\n",
              "      <th>Edad</th>\n",
              "      <th>Sexo</th>\n",
              "      <th>Nota1</th>\n",
              "      <th>Nota2</th>\n",
              "      <th>Nota3</th>\n",
              "      <th>Aula</th>\n",
              "      <th>Promedio</th>\n",
              "    </tr>\n",
              "  </thead>\n",
              "  <tbody>\n",
              "    <tr>\n",
              "      <th>0</th>\n",
              "      <td>Marco</td>\n",
              "      <td>14</td>\n",
              "      <td>Masculino</td>\n",
              "      <td>17.0</td>\n",
              "      <td>13.0</td>\n",
              "      <td>11.0</td>\n",
              "      <td>Roja</td>\n",
              "      <td>13.67</td>\n",
              "    </tr>\n",
              "    <tr>\n",
              "      <th>1</th>\n",
              "      <td>Alberto</td>\n",
              "      <td>16</td>\n",
              "      <td>Masculino</td>\n",
              "      <td>14.0</td>\n",
              "      <td>13.0</td>\n",
              "      <td>14.0</td>\n",
              "      <td>Roja</td>\n",
              "      <td>13.67</td>\n",
              "    </tr>\n",
              "    <tr>\n",
              "      <th>2</th>\n",
              "      <td>Roxana</td>\n",
              "      <td>15</td>\n",
              "      <td>Femenino</td>\n",
              "      <td>15.0</td>\n",
              "      <td>14.0</td>\n",
              "      <td>15.0</td>\n",
              "      <td>Roja</td>\n",
              "      <td>14.67</td>\n",
              "    </tr>\n",
              "  </tbody>\n",
              "</table>\n",
              "</div>"
            ],
            "text/plain": [
              "    Nombre  Edad       Sexo  Nota1  Nota2  Nota3  Aula  Promedio\n",
              "0    Marco    14  Masculino   17.0   13.0   11.0  Roja     13.67\n",
              "1  Alberto    16  Masculino   14.0   13.0   14.0  Roja     13.67\n",
              "2   Roxana    15   Femenino   15.0   14.0   15.0  Roja     14.67"
            ]
          },
          "metadata": {
            "tags": []
          },
          "execution_count": 90
        }
      ]
    },
    {
      "cell_type": "code",
      "metadata": {
        "id": "9Mgt7vV78Wmz"
      },
      "source": [
        "columnas = list(tabla_notas.columns.values)\n",
        "tabla_notas3 = tabla_notas[columnas[0:6]+[columnas[-1]]+[columnas[6]]]"
      ],
      "execution_count": null,
      "outputs": []
    },
    {
      "cell_type": "code",
      "metadata": {
        "colab": {
          "base_uri": "https://localhost:8080/",
          "height": 141
        },
        "id": "Shhxq_sj8meF",
        "outputId": "adef1654-267a-4206-930c-e04c6fe840f2"
      },
      "source": [
        "tabla_notas3.head(3)"
      ],
      "execution_count": null,
      "outputs": [
        {
          "output_type": "execute_result",
          "data": {
            "text/html": [
              "<div>\n",
              "<style scoped>\n",
              "    .dataframe tbody tr th:only-of-type {\n",
              "        vertical-align: middle;\n",
              "    }\n",
              "\n",
              "    .dataframe tbody tr th {\n",
              "        vertical-align: top;\n",
              "    }\n",
              "\n",
              "    .dataframe thead th {\n",
              "        text-align: right;\n",
              "    }\n",
              "</style>\n",
              "<table border=\"1\" class=\"dataframe\">\n",
              "  <thead>\n",
              "    <tr style=\"text-align: right;\">\n",
              "      <th></th>\n",
              "      <th>Nombre</th>\n",
              "      <th>Edad</th>\n",
              "      <th>Sexo</th>\n",
              "      <th>Nota1</th>\n",
              "      <th>Nota2</th>\n",
              "      <th>Nota3</th>\n",
              "      <th>Promedio</th>\n",
              "      <th>Aula</th>\n",
              "    </tr>\n",
              "  </thead>\n",
              "  <tbody>\n",
              "    <tr>\n",
              "      <th>0</th>\n",
              "      <td>Marco</td>\n",
              "      <td>14</td>\n",
              "      <td>Masculino</td>\n",
              "      <td>17.0</td>\n",
              "      <td>13.0</td>\n",
              "      <td>11.0</td>\n",
              "      <td>13.67</td>\n",
              "      <td>Roja</td>\n",
              "    </tr>\n",
              "    <tr>\n",
              "      <th>1</th>\n",
              "      <td>Alberto</td>\n",
              "      <td>16</td>\n",
              "      <td>Masculino</td>\n",
              "      <td>14.0</td>\n",
              "      <td>13.0</td>\n",
              "      <td>14.0</td>\n",
              "      <td>13.67</td>\n",
              "      <td>Roja</td>\n",
              "    </tr>\n",
              "    <tr>\n",
              "      <th>2</th>\n",
              "      <td>Roxana</td>\n",
              "      <td>15</td>\n",
              "      <td>Femenino</td>\n",
              "      <td>15.0</td>\n",
              "      <td>14.0</td>\n",
              "      <td>15.0</td>\n",
              "      <td>14.67</td>\n",
              "      <td>Roja</td>\n",
              "    </tr>\n",
              "  </tbody>\n",
              "</table>\n",
              "</div>"
            ],
            "text/plain": [
              "    Nombre  Edad       Sexo  Nota1  Nota2  Nota3  Promedio  Aula\n",
              "0    Marco    14  Masculino   17.0   13.0   11.0     13.67  Roja\n",
              "1  Alberto    16  Masculino   14.0   13.0   14.0     13.67  Roja\n",
              "2   Roxana    15   Femenino   15.0   14.0   15.0     14.67  Roja"
            ]
          },
          "metadata": {
            "tags": []
          },
          "execution_count": 92
        }
      ]
    },
    {
      "cell_type": "code",
      "metadata": {
        "colab": {
          "base_uri": "https://localhost:8080/"
        },
        "id": "1vazZbz78oSo",
        "outputId": "cccbdad9-3121-451c-af69-7164d2609f34"
      },
      "source": [
        "print(columnas)"
      ],
      "execution_count": null,
      "outputs": [
        {
          "output_type": "stream",
          "text": [
            "['Nombre', 'Edad', 'Sexo', 'Nota1', 'Nota2', 'Nota3', 'Aula', 'Promedio']\n"
          ],
          "name": "stdout"
        }
      ]
    },
    {
      "cell_type": "code",
      "metadata": {
        "colab": {
          "base_uri": "https://localhost:8080/"
        },
        "id": "PIVf1M4R8zzF",
        "outputId": "f5b242e5-9ca3-48cd-b471-a078c5503815"
      },
      "source": [
        "print(tabla_notas.columns.values)"
      ],
      "execution_count": null,
      "outputs": [
        {
          "output_type": "stream",
          "text": [
            "['Nombre' 'Edad' 'Sexo' 'Nota1' 'Nota2' 'Nota3' 'Aula' 'Promedio']\n"
          ],
          "name": "stdout"
        }
      ]
    },
    {
      "cell_type": "code",
      "metadata": {
        "id": "Lw-XkpMs88kf"
      },
      "source": [],
      "execution_count": null,
      "outputs": []
    }
  ]
}